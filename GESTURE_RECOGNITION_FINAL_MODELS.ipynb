{
  "cells": [
    {
      "cell_type": "markdown",
      "metadata": {
        "id": "P63SEDM65Dvh"
      },
      "source": [
        "# Gesture Recognition\n",
        "In this group project, you are going to build a 3D Conv model that will be able to predict the 5 gestures correctly. Please import the following libraries to get started."
      ]
    },
    {
      "cell_type": "code",
      "execution_count": null,
      "metadata": {
        "id": "Y4hhkKCb5Dvl"
      },
      "outputs": [],
      "source": [
        "import numpy as np\n",
        "import os\n",
        "import datetime\n",
        "import os\n",
        "from skimage.transform import resize \n",
        "from cv2 import imread\n",
        "import matplotlib.pyplot as plt\n",
        "%matplotlib inline\n",
        "import warnings\n",
        "warnings.filterwarnings('ignore')"
      ]
    },
    {
      "cell_type": "markdown",
      "metadata": {
        "id": "nxaH_ORJ5Dvn"
      },
      "source": [
        "We set the random seed so that the results don't vary drastically."
      ]
    },
    {
      "cell_type": "code",
      "execution_count": null,
      "metadata": {
        "id": "Mlfu47CP5Dvo"
      },
      "outputs": [],
      "source": [
        "np.random.seed(30)\n",
        "import random as rn\n",
        "rn.seed(30)\n",
        "from keras import backend as K\n",
        "import tensorflow as tf\n",
        "tf.random.set_seed(30)"
      ]
    },
    {
      "cell_type": "code",
      "execution_count": null,
      "metadata": {
        "colab": {
          "base_uri": "https://localhost:8080/"
        },
        "id": "aubEPEyvl5vi",
        "outputId": "42edf050-8d2f-41a8-b116-7c0a3de872d3"
      },
      "outputs": [
        {
          "output_type": "stream",
          "name": "stdout",
          "text": [
            "Num GPUs Available:  1\n"
          ]
        }
      ],
      "source": [
        "import tensorflow as tf\n",
        "print(\"Num GPUs Available: \", len(tf.config.experimental.list_physical_devices('GPU')))"
      ]
    },
    {
      "cell_type": "markdown",
      "metadata": {
        "id": "Lnsw4PTp5Dvo"
      },
      "source": [
        "In this block, you read the folder names for training and validation. You also set the `batch_size` here. Note that you set the batch size in such a way that you are able to use the GPU in full capacity. You keep increasing the batch size until the machine throws an error."
      ]
    },
    {
      "cell_type": "code",
      "source": [
        "from google.colab import drive\n",
        "drive.mount('/content/drive')"
      ],
      "metadata": {
        "colab": {
          "base_uri": "https://localhost:8080/"
        },
        "id": "wAKOwGuaDmeH",
        "outputId": "7fd046f1-9399-4f9e-e4aa-61bd19b0a8f5"
      },
      "execution_count": null,
      "outputs": [
        {
          "output_type": "stream",
          "name": "stdout",
          "text": [
            "Mounted at /content/drive\n"
          ]
        }
      ]
    },
    {
      "cell_type": "code",
      "source": [
        "!unzip '/content/drive/MyDrive/Project_data2.zip'"
      ],
      "metadata": {
        "id": "BJDian4wDmkH"
      },
      "execution_count": null,
      "outputs": []
    },
    {
      "cell_type": "code",
      "execution_count": null,
      "metadata": {
        "id": "Wf9ATmcC5Dvp"
      },
      "outputs": [],
      "source": [
        "train_doc = np.random.permutation(open(r\"/content/Project_data/train.csv\").readlines())\n",
        "val_doc = np.random.permutation(open(r\"/content/Project_data/val.csv\").readlines())\n"
      ]
    },
    {
      "cell_type": "code",
      "execution_count": null,
      "metadata": {
        "colab": {
          "base_uri": "https://localhost:8080/"
        },
        "id": "X1LoIr6GIPGQ",
        "outputId": "0e72603e-a489-421c-a911-1b28bfb21f29"
      },
      "outputs": [
        {
          "output_type": "stream",
          "name": "stdout",
          "text": [
            "(663,)\n",
            "(100,)\n"
          ]
        }
      ],
      "source": [
        "print(train_doc.shape)\n",
        "print(val_doc.shape)"
      ]
    },
    {
      "cell_type": "markdown",
      "metadata": {
        "id": "9yCqkZHw5Dvp"
      },
      "source": [
        "## Generator\n",
        "This is one of the most important part of the code. The overall structure of the generator has been given. In the generator, you are going to preprocess the images as you have images of 2 different dimensions as well as create a batch of video frames. You have to experiment with `img_idx`, `y`,`z` and normalization such that you get high accuracy."
      ]
    },
    {
      "cell_type": "code",
      "execution_count": null,
      "metadata": {
        "id": "nCRtHkxe5Dvp"
      },
      "outputs": [],
      "source": [
        "def generator(source_path, folder_list, batch_size):\n",
        "    print( 'Source path = ', source_path, '; batch size =', batch_size)\n",
        "    img_idx = np.round(np.linspace(start = 1, stop = 29, num=18)).astype('int') # Here we are defining that out of 30 how many images/frames we want to consider and we took 18 images\n",
        "    while True:\n",
        "        t = np.random.permutation(folder_list)\n",
        "# As, in the project data there is train.csv and val.csv which contains the data regarding images and arranged in such a order that class 0 is at starting and this goes on consecutively till class 5\n",
        "# So, these classes are in sequence so this can create bias in the data, so we need to shuffle them to learn robustly and for this we are using \"np.random.permutation\"\n",
        "\n",
        "        num_batches = len(t) // batch_size                              # calculate the number of batches\n",
        "        for batch in range(num_batches):                                # we iterate over the number of batches\n",
        "            batch_data = np.zeros((batch_size,18,100,100,3))         # 18 is the number of images you use for each video, (y,z) is the final size of the input images and 3 is the number of channels RGB\n",
        "            batch_labels = np.zeros((batch_size,5))                     # batch_labels is the one hot representation of the output\n",
        "            for folder in range(batch_size):                            # iterate over the batch_size\n",
        "                imgs = os.listdir(source_path+'/'+ t[folder + (batch*batch_size)].split(';')[0]) # read all the images in the folder\n",
        "                for idx,item in enumerate(img_idx):                     #  Iterate over the frames/images of a folder to read them in\n",
        "                    image = imread(source_path+'/'+ t[folder + (batch*batch_size)].strip().split(';')[0]+'/'+imgs[item]).astype(np.float32)\n",
        "                    image_resized = resize(image,(100,100,3)).astype(np.float32)\n",
        "\n",
        "                    #crop the images and resize them. Note that the images are of 2 different shape \n",
        "                    #and the conv3D will throw error if the inputs in a batch have different shapes\n",
        "                    \n",
        "                    batch_data[folder,idx,:,:,0] =     (image_resized[:, :,0])/255.0               #normalise and feed in the image\n",
        "                    batch_data[folder,idx,:,:,1] =     (image_resized[:, :,1])/255.0               #normalise and feed in the image\n",
        "                    batch_data[folder,idx,:,:,2] =     (image_resized[:, :,2])/255.0               #normalise and feed in the image\n",
        "                    \n",
        "                batch_labels[folder, int(t[folder + (batch*batch_size)].strip().split(';')[2])] = 1\n",
        "            yield batch_data, batch_labels #you yield the batch_data and the batch_labels, remember what does yield do\n",
        "        \n",
        "        # write the code for the remaining data points which are left after full batches\n",
        "        \n",
        "        remaining_seq = len(t) % batch_size \n",
        "        if (remaining_seq!= 0):\n",
        "            \n",
        "            batch_data = np.zeros((remaining_seq,18,100,100,3)) # here first we specified the remaining_seq because the remaining sequence or images are not in the multiple of batch_size and because of this\n",
        "          #  we defined the shape such that no sequence is left over \n",
        "            batch_labels = np.zeros((remaining_seq,5))\n",
        "            for folder in range(remaining_seq):\n",
        "                # iterate over the batch_size\n",
        "                imgs = os.listdir(source_path+'/'+ t[folder + (num_batches*remaining_seq)].split(';')[0]) # read all the images in the folder\n",
        "                for idx,item in enumerate(img_idx):                     #  Iterate iver the frames/images of a folder to read them in\n",
        "                    image = imread(source_path+'/'+ t[folder + (num_batches*remaining_seq)].strip().split(';')[0]+'/'+imgs[item]).astype(np.float32)\n",
        "                    image_resized = resize(image,(100,100,3)).astype(np.float32)\n",
        "\n",
        "                    #crop the images and resize them. Note that the images are of 2 different shape \n",
        "                    #and the conv3D will throw error if the inputs in a batch have different shapes\n",
        "                    \n",
        "                    batch_data[folder,idx,:,:,0] =     (image_resized[:, :,0])/255.0               #normalise and feed in the image\n",
        "                    batch_data[folder,idx,:,:,1] =     (image_resized[:, :,1])/255.0               #normalise and feed in the image\n",
        "                    batch_data[folder,idx,:,:,2] =     (image_resized[:, :,2])/255.0               #normalise and feed in the image\n",
        "                    \n",
        "                batch_labels[folder, int(t[folder + (num_batches*remaining_seq)].strip().split(';')[2])] = 1\n",
        "            yield batch_data, batch_labels\n"
      ]
    },
    {
      "cell_type": "markdown",
      "metadata": {
        "id": "3pwmW_sX5Dvq"
      },
      "source": [
        "Note here that a video is represented above in the generator as (number of images, height, width, number of channels). Take this into consideration while creating the model architecture."
      ]
    },
    {
      "cell_type": "code",
      "execution_count": null,
      "metadata": {
        "colab": {
          "base_uri": "https://localhost:8080/"
        },
        "id": "2kRHh8Fy5Dvq",
        "outputId": "f4c6363e-dac4-47d7-8059-1a2b72a08559"
      },
      "outputs": [
        {
          "output_type": "stream",
          "name": "stdout",
          "text": [
            "2023-02-13 10:16:47.459009\n",
            "# training sequences = 663\n",
            "# validation sequences = 100\n"
          ]
        }
      ],
      "source": [
        "curr_dt_time = datetime.datetime.now()\n",
        "print(curr_dt_time)\n",
        "\n",
        "train_path = r\"/content/Project_data/train\"\n",
        "num_train_sequences = len(train_doc)\n",
        "print('# training sequences =', num_train_sequences)\n",
        "\n",
        "val_path = r\"/content/Project_data/val\"\n",
        "num_val_sequences = len(val_doc)\n",
        "print('# validation sequences =', num_val_sequences)\n"
      ]
    },
    {
      "cell_type": "markdown",
      "metadata": {
        "id": "pwLZuh4f5Dvr"
      },
      "source": [
        "## Model\n",
        "Here you make the model using different functionalities that Keras provides. Remember to use `Conv3D` and `MaxPooling3D` and not `Conv2D` and `Maxpooling2D` for a 3D convolution model. You would want to use `TimeDistributed` while building a Conv2D + RNN model. Also remember that the last layer is the softmax. Design the network in such a way that the model is able to give good accuracy on the least number of parameters so that it can fit in the memory of the webcam."
      ]
    },
    {
      "cell_type": "code",
      "execution_count": null,
      "metadata": {
        "id": "M9LcxTwu5Dvr"
      },
      "outputs": [],
      "source": [
        "from keras.models import Sequential, Model\n",
        "from keras.layers import Dense, GRU, Flatten, TimeDistributed, Flatten, BatchNormalization, Activation, Dropout, LSTM\n",
        "from keras.layers.convolutional import Conv3D, MaxPooling3D, Conv2D, MaxPooling2D\n",
        "from keras.callbacks import ModelCheckpoint, ReduceLROnPlateau\n",
        "from keras import optimizers\n",
        "\n",
        "#write your model here"
      ]
    },
    {
      "cell_type": "markdown",
      "metadata": {
        "id": "YNjnt9_C2Tc6"
      },
      "source": [
        "# Model - 01 "
      ]
    },
    {
      "cell_type": "code",
      "execution_count": null,
      "metadata": {
        "colab": {
          "base_uri": "https://localhost:8080/"
        },
        "id": "x5NJYFXveACH",
        "outputId": "97c2953a-c687-42e1-b0e3-69bacb5a9ef3"
      },
      "outputs": [
        {
          "output_type": "stream",
          "name": "stdout",
          "text": [
            "Model: \"sequential_1\"\n",
            "_________________________________________________________________\n",
            " Layer (type)                Output Shape              Param #   \n",
            "=================================================================\n",
            " conv3d_4 (Conv3D)           (None, 18, 100, 100, 16)  1312      \n",
            "                                                                 \n",
            " batch_normalization_4 (Batc  (None, 18, 100, 100, 16)  64       \n",
            " hNormalization)                                                 \n",
            "                                                                 \n",
            " max_pooling3d_4 (MaxPooling  (None, 9, 50, 50, 16)    0         \n",
            " 3D)                                                             \n",
            "                                                                 \n",
            " conv3d_5 (Conv3D)           (None, 9, 50, 50, 32)     13856     \n",
            "                                                                 \n",
            " batch_normalization_5 (Batc  (None, 9, 50, 50, 32)    128       \n",
            " hNormalization)                                                 \n",
            "                                                                 \n",
            " max_pooling3d_5 (MaxPooling  (None, 4, 25, 25, 32)    0         \n",
            " 3D)                                                             \n",
            "                                                                 \n",
            " conv3d_6 (Conv3D)           (None, 4, 25, 25, 64)     55360     \n",
            "                                                                 \n",
            " batch_normalization_6 (Batc  (None, 4, 25, 25, 64)    256       \n",
            " hNormalization)                                                 \n",
            "                                                                 \n",
            " max_pooling3d_6 (MaxPooling  (None, 2, 12, 12, 64)    0         \n",
            " 3D)                                                             \n",
            "                                                                 \n",
            " conv3d_7 (Conv3D)           (None, 2, 12, 12, 128)    221312    \n",
            "                                                                 \n",
            " batch_normalization_7 (Batc  (None, 2, 12, 12, 128)   512       \n",
            " hNormalization)                                                 \n",
            "                                                                 \n",
            " max_pooling3d_7 (MaxPooling  (None, 1, 6, 6, 128)     0         \n",
            " 3D)                                                             \n",
            "                                                                 \n",
            " flatten_1 (Flatten)         (None, 4608)              0         \n",
            "                                                                 \n",
            " dropout_2 (Dropout)         (None, 4608)              0         \n",
            "                                                                 \n",
            " dense_2 (Dense)             (None, 256)               1179904   \n",
            "                                                                 \n",
            " dropout_3 (Dropout)         (None, 256)               0         \n",
            "                                                                 \n",
            " dense_3 (Dense)             (None, 5)                 1285      \n",
            "                                                                 \n",
            "=================================================================\n",
            "Total params: 1,473,989\n",
            "Trainable params: 1,473,509\n",
            "Non-trainable params: 480\n",
            "_________________________________________________________________\n"
          ]
        }
      ],
      "source": [
        "\n",
        "\n",
        "num_classes = 5\n",
        "model = Sequential()\n",
        "\n",
        "model.add(Conv3D(16, kernel_size=(3,3,3), padding='same', input_shape=(18,100,100,3), activation='relu'))\n",
        "model.add(BatchNormalization())\n",
        "model.add(MaxPooling3D(pool_size=(2,2,2), strides = (2,2,2)))\n",
        "\n",
        "model.add(Conv3D(32, kernel_size=(3,3,3), padding='same', activation='relu'))\n",
        "model.add(BatchNormalization())\n",
        "model.add(MaxPooling3D(pool_size=(2,2,2)))\n",
        "\n",
        "model.add(Conv3D(64, kernel_size=(3,3,3), padding='same', activation='relu'))\n",
        "model.add(BatchNormalization())\n",
        "model.add(MaxPooling3D(pool_size=(2,2,2)))\n",
        "\n",
        "model.add(Conv3D(128, kernel_size=(3,3,3), padding='same', activation='relu'))\n",
        "model.add(BatchNormalization())\n",
        "model.add(MaxPooling3D(pool_size=(2,2,2)))\n",
        "\n",
        "model.add(Flatten())\n",
        "model.add(Dropout(0.5))\n",
        "model.add(Dense(256, activation='relu'))\n",
        "model.add(Dropout(0.5))\n",
        "\n",
        "model.add(Dense(num_classes,activation='softmax'))\n",
        "\n",
        "model.summary()"
      ]
    },
    {
      "cell_type": "markdown",
      "metadata": {
        "id": "4fnxRVjD5Dvs"
      },
      "source": [
        "Now that you have written the model, the next step is to `compile` the model. When you print the `summary` of the model, you'll see the total number of parameters you have to train."
      ]
    },
    {
      "cell_type": "code",
      "execution_count": null,
      "metadata": {
        "id": "USZqCFMl5Dvs",
        "scrolled": true
      },
      "outputs": [],
      "source": [
        "optimiser = 'adam'\n",
        "model.compile(optimizer=optimiser, loss='categorical_crossentropy', metrics=['categorical_accuracy'])"
      ]
    },
    {
      "cell_type": "markdown",
      "metadata": {
        "id": "GUiXFUR75Dvs"
      },
      "source": [
        "Let us create the `train_generator` and the `val_generator` which will be used in `.fit_generator`."
      ]
    },
    {
      "cell_type": "code",
      "execution_count": null,
      "metadata": {
        "id": "q5T7zoVb5Dvs"
      },
      "outputs": [],
      "source": [
        "batch_size = 64\n",
        "train_generator = generator(train_path, train_doc[:120], batch_size)\n",
        "val_generator = generator(val_path, val_doc[:30], batch_size)"
      ]
    },
    {
      "cell_type": "code",
      "execution_count": null,
      "metadata": {
        "colab": {
          "base_uri": "https://localhost:8080/"
        },
        "id": "Yj3cLA1A5Dvs",
        "outputId": "592ed73a-c2f7-4f99-bd9a-8e0a7f6f1df2"
      },
      "outputs": [
        {
          "output_type": "stream",
          "name": "stderr",
          "text": [
            "WARNING:tensorflow:`period` argument is deprecated. Please use `save_freq` to specify the frequency in number of batches seen.\n"
          ]
        }
      ],
      "source": [
        "model_name = 'model_init' + '_' + str(curr_dt_time).replace(' ','').replace(':','_') + '/'\n",
        "    \n",
        "if not os.path.exists(model_name):\n",
        "    os.mkdir(model_name)\n",
        "        \n",
        "filepath = model_name + 'model-{epoch:05d}-{loss:.5f}-{categorical_accuracy:.5f}-{val_loss:.5f}-{val_categorical_accuracy:.5f}.h5'\n",
        "\n",
        "checkpoint = ModelCheckpoint(filepath, monitor='val_loss', verbose=1, save_best_only=False, save_weights_only=False, mode='auto', period=1)\n",
        "\n",
        "LR = ReduceLROnPlateau(monitor='val_loss', factor=0.2, verbose=1, patience=4)\n",
        "callbacks_list = [checkpoint, LR]"
      ]
    },
    {
      "cell_type": "markdown",
      "metadata": {
        "id": "me-8yGH95Dvt"
      },
      "source": [
        "The `steps_per_epoch` and `validation_steps` are used by `fit_generator` to decide the number of next() calls it need to make."
      ]
    },
    {
      "cell_type": "code",
      "execution_count": null,
      "metadata": {
        "id": "8eDbQAk85Dvt"
      },
      "outputs": [],
      "source": [
        "if (num_train_sequences%batch_size) == 0:\n",
        "    steps_per_epoch = int(num_train_sequences/batch_size)\n",
        "else:\n",
        "    steps_per_epoch = (num_train_sequences//batch_size) + 1\n",
        "\n",
        "if (num_val_sequences%batch_size) == 0:\n",
        "    validation_steps = int(num_val_sequences/batch_size)\n",
        "else:\n",
        "    validation_steps = (num_val_sequences//batch_size) + 1"
      ]
    },
    {
      "cell_type": "markdown",
      "metadata": {
        "id": "MaNC-KoJ5Dvt"
      },
      "source": [
        "Let us now fit the model. This will start training the model and with the help of the checkpoints, you'll be able to save the model at the end of each epoch."
      ]
    },
    {
      "cell_type": "code",
      "execution_count": null,
      "metadata": {
        "colab": {
          "base_uri": "https://localhost:8080/"
        },
        "id": "lM6jSX5R5Dvt",
        "outputId": "a2f72a81-4fcb-4051-cdd3-d7492cde6a2e"
      },
      "outputs": [
        {
          "output_type": "stream",
          "name": "stdout",
          "text": [
            "Source path =  /content/Project_data/train ; batch size = 64\n",
            "Epoch 1/25\n",
            "11/11 [==============================] - ETA: 0s - loss: 4.1175 - categorical_accuracy: 0.4307 Source path =  /content/Project_data/val ; batch size = 64\n",
            "\n",
            "Epoch 1: saving model to model_init_2023-02-1303_49_13.772526/model-00001-4.11745-0.43072-4.07409-0.23333.h5\n",
            "11/11 [==============================] - 138s 13s/step - loss: 4.1175 - categorical_accuracy: 0.4307 - val_loss: 4.0741 - val_categorical_accuracy: 0.2333 - lr: 0.0010\n",
            "Epoch 2/25\n",
            "11/11 [==============================] - ETA: 0s - loss: 0.8958 - categorical_accuracy: 0.7088 \n",
            "Epoch 2: saving model to model_init_2023-02-1303_49_13.772526/model-00002-0.89581-0.70884-2.29706-0.33333.h5\n",
            "11/11 [==============================] - 136s 14s/step - loss: 0.8958 - categorical_accuracy: 0.7088 - val_loss: 2.2971 - val_categorical_accuracy: 0.3333 - lr: 0.0010\n",
            "Epoch 3/25\n",
            "11/11 [==============================] - ETA: 0s - loss: 0.4230 - categorical_accuracy: 0.8313 \n",
            "Epoch 3: saving model to model_init_2023-02-1303_49_13.772526/model-00003-0.42305-0.83133-1.99427-0.26667.h5\n",
            "11/11 [==============================] - 132s 13s/step - loss: 0.4230 - categorical_accuracy: 0.8313 - val_loss: 1.9943 - val_categorical_accuracy: 0.2667 - lr: 0.0010\n",
            "Epoch 4/25\n",
            "11/11 [==============================] - ETA: 0s - loss: 0.3257 - categorical_accuracy: 0.8750 \n",
            "Epoch 4: saving model to model_init_2023-02-1303_49_13.772526/model-00004-0.32567-0.87500-4.17993-0.20000.h5\n",
            "11/11 [==============================] - 132s 13s/step - loss: 0.3257 - categorical_accuracy: 0.8750 - val_loss: 4.1799 - val_categorical_accuracy: 0.2000 - lr: 0.0010\n",
            "Epoch 5/25\n",
            "11/11 [==============================] - ETA: 0s - loss: 0.1870 - categorical_accuracy: 0.9337 \n",
            "Epoch 5: saving model to model_init_2023-02-1303_49_13.772526/model-00005-0.18704-0.93373-6.11387-0.20000.h5\n",
            "11/11 [==============================] - 127s 13s/step - loss: 0.1870 - categorical_accuracy: 0.9337 - val_loss: 6.1139 - val_categorical_accuracy: 0.2000 - lr: 0.0010\n",
            "Epoch 6/25\n",
            "11/11 [==============================] - ETA: 0s - loss: 0.1160 - categorical_accuracy: 0.9665 \n",
            "Epoch 6: saving model to model_init_2023-02-1303_49_13.772526/model-00006-0.11599-0.96646-7.69904-0.20000.h5\n",
            "11/11 [==============================] - 128s 13s/step - loss: 0.1160 - categorical_accuracy: 0.9665 - val_loss: 7.6990 - val_categorical_accuracy: 0.2000 - lr: 0.0010\n",
            "Epoch 7/25\n",
            "11/11 [==============================] - ETA: 0s - loss: 0.0930 - categorical_accuracy: 0.9684 \n",
            "Epoch 7: saving model to model_init_2023-02-1303_49_13.772526/model-00007-0.09304-0.96837-9.60715-0.16667.h5\n",
            "\n",
            "Epoch 7: ReduceLROnPlateau reducing learning rate to 0.00020000000949949026.\n",
            "11/11 [==============================] - 127s 13s/step - loss: 0.0930 - categorical_accuracy: 0.9684 - val_loss: 9.6071 - val_categorical_accuracy: 0.1667 - lr: 0.0010\n",
            "Epoch 8/25\n",
            "11/11 [==============================] - ETA: 0s - loss: 0.0838 - categorical_accuracy: 0.9771 \n",
            "Epoch 8: saving model to model_init_2023-02-1303_49_13.772526/model-00008-0.08383-0.97713-10.37709-0.13333.h5\n",
            "11/11 [==============================] - 128s 13s/step - loss: 0.0838 - categorical_accuracy: 0.9771 - val_loss: 10.3771 - val_categorical_accuracy: 0.1333 - lr: 2.0000e-04\n",
            "Epoch 9/25\n",
            "11/11 [==============================] - ETA: 0s - loss: 0.0584 - categorical_accuracy: 0.9819\n",
            "Epoch 9: saving model to model_init_2023-02-1303_49_13.772526/model-00009-0.05842-0.98193-11.31408-0.13333.h5\n",
            "11/11 [==============================] - 126s 13s/step - loss: 0.0584 - categorical_accuracy: 0.9819 - val_loss: 11.3141 - val_categorical_accuracy: 0.1333 - lr: 2.0000e-04\n",
            "Epoch 10/25\n",
            "11/11 [==============================] - ETA: 0s - loss: 0.0476 - categorical_accuracy: 0.9878 \n",
            "Epoch 10: saving model to model_init_2023-02-1303_49_13.772526/model-00010-0.04764-0.98780-12.08632-0.10000.h5\n",
            "11/11 [==============================] - 130s 13s/step - loss: 0.0476 - categorical_accuracy: 0.9878 - val_loss: 12.0863 - val_categorical_accuracy: 0.1000 - lr: 2.0000e-04\n",
            "Epoch 11/25\n",
            "11/11 [==============================] - ETA: 0s - loss: 0.0429 - categorical_accuracy: 0.9864 \n",
            "Epoch 11: saving model to model_init_2023-02-1303_49_13.772526/model-00011-0.04294-0.98645-12.35104-0.13333.h5\n",
            "\n",
            "Epoch 11: ReduceLROnPlateau reducing learning rate to 4.0000001899898055e-05.\n",
            "11/11 [==============================] - 127s 13s/step - loss: 0.0429 - categorical_accuracy: 0.9864 - val_loss: 12.3510 - val_categorical_accuracy: 0.1333 - lr: 2.0000e-04\n",
            "Epoch 12/25\n",
            "11/11 [==============================] - ETA: 0s - loss: 0.0359 - categorical_accuracy: 0.9939 \n",
            "Epoch 12: saving model to model_init_2023-02-1303_49_13.772526/model-00012-0.03593-0.99390-12.64155-0.10000.h5\n",
            "11/11 [==============================] - 127s 13s/step - loss: 0.0359 - categorical_accuracy: 0.9939 - val_loss: 12.6416 - val_categorical_accuracy: 0.1000 - lr: 4.0000e-05\n",
            "Epoch 13/25\n",
            "11/11 [==============================] - ETA: 0s - loss: 0.0403 - categorical_accuracy: 0.9910 \n",
            "Epoch 13: saving model to model_init_2023-02-1303_49_13.772526/model-00013-0.04027-0.99096-12.89852-0.10000.h5\n",
            "11/11 [==============================] - 125s 12s/step - loss: 0.0403 - categorical_accuracy: 0.9910 - val_loss: 12.8985 - val_categorical_accuracy: 0.1000 - lr: 4.0000e-05\n",
            "Epoch 14/25\n",
            "11/11 [==============================] - ETA: 0s - loss: 0.0401 - categorical_accuracy: 0.9893 \n",
            "Epoch 14: saving model to model_init_2023-02-1303_49_13.772526/model-00014-0.04010-0.98933-13.06988-0.10000.h5\n",
            "11/11 [==============================] - 129s 13s/step - loss: 0.0401 - categorical_accuracy: 0.9893 - val_loss: 13.0699 - val_categorical_accuracy: 0.1000 - lr: 4.0000e-05\n",
            "Epoch 15/25\n",
            "11/11 [==============================] - ETA: 0s - loss: 0.0414 - categorical_accuracy: 0.9864 \n",
            "Epoch 15: saving model to model_init_2023-02-1303_49_13.772526/model-00015-0.04144-0.98645-13.15495-0.10000.h5\n",
            "\n",
            "Epoch 15: ReduceLROnPlateau reducing learning rate to 8.000000525498762e-06.\n",
            "11/11 [==============================] - 126s 13s/step - loss: 0.0414 - categorical_accuracy: 0.9864 - val_loss: 13.1549 - val_categorical_accuracy: 0.1000 - lr: 4.0000e-05\n",
            "Epoch 16/25\n",
            "11/11 [==============================] - ETA: 0s - loss: 0.0286 - categorical_accuracy: 0.9954 \n",
            "Epoch 16: saving model to model_init_2023-02-1303_49_13.772526/model-00016-0.02859-0.99543-13.21797-0.10000.h5\n",
            "11/11 [==============================] - 128s 13s/step - loss: 0.0286 - categorical_accuracy: 0.9954 - val_loss: 13.2180 - val_categorical_accuracy: 0.1000 - lr: 8.0000e-06\n",
            "Epoch 17/25\n",
            "11/11 [==============================] - ETA: 0s - loss: 0.0244 - categorical_accuracy: 0.9955 \n",
            "Epoch 17: saving model to model_init_2023-02-1303_49_13.772526/model-00017-0.02443-0.99548-13.25264-0.10000.h5\n",
            "11/11 [==============================] - 126s 13s/step - loss: 0.0244 - categorical_accuracy: 0.9955 - val_loss: 13.2526 - val_categorical_accuracy: 0.1000 - lr: 8.0000e-06\n",
            "Epoch 18/25\n",
            "11/11 [==============================] - ETA: 0s - loss: 0.0248 - categorical_accuracy: 0.9970 \n",
            "Epoch 18: saving model to model_init_2023-02-1303_49_13.772526/model-00018-0.02482-0.99695-13.25109-0.10000.h5\n",
            "11/11 [==============================] - 131s 13s/step - loss: 0.0248 - categorical_accuracy: 0.9970 - val_loss: 13.2511 - val_categorical_accuracy: 0.1000 - lr: 8.0000e-06\n",
            "Epoch 19/25\n",
            "11/11 [==============================] - ETA: 0s - loss: 0.0369 - categorical_accuracy: 0.9940 \n",
            "Epoch 19: saving model to model_init_2023-02-1303_49_13.772526/model-00019-0.03687-0.99398-13.19127-0.10000.h5\n",
            "\n",
            "Epoch 19: ReduceLROnPlateau reducing learning rate to 1.6000001778593287e-06.\n",
            "11/11 [==============================] - 130s 13s/step - loss: 0.0369 - categorical_accuracy: 0.9940 - val_loss: 13.1913 - val_categorical_accuracy: 0.1000 - lr: 8.0000e-06\n",
            "Epoch 20/25\n",
            "11/11 [==============================] - ETA: 0s - loss: 0.0385 - categorical_accuracy: 0.9848 \n",
            "Epoch 20: saving model to model_init_2023-02-1303_49_13.772526/model-00020-0.03852-0.98476-13.07853-0.10000.h5\n",
            "11/11 [==============================] - 127s 13s/step - loss: 0.0385 - categorical_accuracy: 0.9848 - val_loss: 13.0785 - val_categorical_accuracy: 0.1000 - lr: 1.6000e-06\n",
            "Epoch 21/25\n",
            "11/11 [==============================] - ETA: 0s - loss: 0.0352 - categorical_accuracy: 0.9895 \n",
            "Epoch 21: saving model to model_init_2023-02-1303_49_13.772526/model-00021-0.03517-0.98946-12.90237-0.10000.h5\n",
            "11/11 [==============================] - 127s 13s/step - loss: 0.0352 - categorical_accuracy: 0.9895 - val_loss: 12.9024 - val_categorical_accuracy: 0.1000 - lr: 1.6000e-06\n",
            "Epoch 22/25\n",
            "11/11 [==============================] - ETA: 0s - loss: 0.0335 - categorical_accuracy: 0.9939 \n",
            "Epoch 22: saving model to model_init_2023-02-1303_49_13.772526/model-00022-0.03350-0.99390-12.67393-0.10000.h5\n",
            "11/11 [==============================] - 126s 13s/step - loss: 0.0335 - categorical_accuracy: 0.9939 - val_loss: 12.6739 - val_categorical_accuracy: 0.1000 - lr: 1.6000e-06\n",
            "Epoch 23/25\n",
            "11/11 [==============================] - ETA: 0s - loss: 0.0316 - categorical_accuracy: 0.9940 \n",
            "Epoch 23: saving model to model_init_2023-02-1303_49_13.772526/model-00023-0.03159-0.99398-12.40204-0.10000.h5\n",
            "\n",
            "Epoch 23: ReduceLROnPlateau reducing learning rate to 3.200000264769187e-07.\n",
            "11/11 [==============================] - 125s 12s/step - loss: 0.0316 - categorical_accuracy: 0.9940 - val_loss: 12.4020 - val_categorical_accuracy: 0.1000 - lr: 1.6000e-06\n",
            "Epoch 24/25\n",
            "11/11 [==============================] - ETA: 0s - loss: 0.0342 - categorical_accuracy: 0.9909 \n",
            "Epoch 24: saving model to model_init_2023-02-1303_49_13.772526/model-00024-0.03422-0.99085-12.08125-0.10000.h5\n",
            "11/11 [==============================] - 128s 13s/step - loss: 0.0342 - categorical_accuracy: 0.9909 - val_loss: 12.0812 - val_categorical_accuracy: 0.1000 - lr: 3.2000e-07\n",
            "Epoch 25/25\n",
            "11/11 [==============================] - ETA: 0s - loss: 0.0208 - categorical_accuracy: 0.9985 \n",
            "Epoch 25: saving model to model_init_2023-02-1303_49_13.772526/model-00025-0.02078-0.99849-11.71916-0.10000.h5\n",
            "11/11 [==============================] - 126s 13s/step - loss: 0.0208 - categorical_accuracy: 0.9985 - val_loss: 11.7192 - val_categorical_accuracy: 0.1000 - lr: 3.2000e-07\n"
          ]
        }
      ],
      "source": [
        "num_epochs = 25\n",
        "history = model.fit_generator(train_generator, steps_per_epoch=steps_per_epoch, epochs=num_epochs, verbose=1, \n",
        "                    callbacks=callbacks_list, validation_data=val_generator, \n",
        "                    validation_steps=validation_steps, class_weight=None, workers=1, initial_epoch=0)"
      ]
    },
    {
      "cell_type": "code",
      "execution_count": null,
      "metadata": {
        "colab": {
          "base_uri": "https://localhost:8080/",
          "height": 341
        },
        "id": "1SSabbKcH3pj",
        "outputId": "bd4d7b0e-2ab4-4b1a-8f66-337dbb6d2ba6"
      },
      "outputs": [
        {
          "output_type": "display_data",
          "data": {
            "text/plain": [
              "<Figure size 576x360 with 2 Axes>"
            ],
            "image/png": "[encoded data removed]"
          },
          "metadata": {
            "needs_background": "light"
          }
        }
      ],
      "source": [
        "acc = history.history['categorical_accuracy']\n",
        "val_acc = history.history['val_categorical_accuracy']\n",
        "\n",
        "loss = history.history['loss']\n",
        "val_loss = history.history['val_loss']\n",
        "\n",
        "epochs_range = range(num_epochs)\n",
        "\n",
        "plt.figure(figsize=(8, 5))\n",
        "plt.subplot(1, 3, 1)\n",
        "plt.plot(epochs_range, acc, label='Training Accuracy')\n",
        "plt.plot(epochs_range, val_acc, label='Validation Accuracy')\n",
        "plt.legend(loc='best')\n",
        "plt.title('Training and Validation Accuracy',size = 20 , color='g')\n",
        "\n",
        "plt.subplot(1, 3, 3)\n",
        "plt.plot(epochs_range, loss, label='Training Loss')\n",
        "plt.plot(epochs_range, val_loss, label='Validation Loss')\n",
        "plt.legend(loc='best')\n",
        "plt.title('Training and Validation Loss', size = 20 , color='r')\n",
        "plt.show()"
      ]
    },
    {
      "cell_type": "markdown",
      "metadata": {
        "id": "j6u3CIYN2YKT"
      },
      "source": [
        "# Model - 02 \n",
        "\n",
        "## Using activation as 'elu' "
      ]
    },
    {
      "cell_type": "code",
      "execution_count": null,
      "metadata": {
        "colab": {
          "base_uri": "https://localhost:8080/"
        },
        "id": "5udE56TN5Dvt",
        "outputId": "9c7cafa5-8cf7-4e29-862e-6a41b62cd2c2"
      },
      "outputs": [
        {
          "output_type": "stream",
          "name": "stdout",
          "text": [
            "Model: \"sequential_2\"\n",
            "_________________________________________________________________\n",
            " Layer (type)                Output Shape              Param #   \n",
            "=================================================================\n",
            " conv3d_8 (Conv3D)           (None, 18, 100, 100, 16)  400       \n",
            "                                                                 \n",
            " batch_normalization_8 (Batc  (None, 18, 100, 100, 16)  64       \n",
            " hNormalization)                                                 \n",
            "                                                                 \n",
            " max_pooling3d_8 (MaxPooling  (None, 9, 50, 100, 16)   0         \n",
            " 3D)                                                             \n",
            "                                                                 \n",
            " dropout_4 (Dropout)         (None, 9, 50, 100, 16)    0         \n",
            "                                                                 \n",
            " conv3d_9 (Conv3D)           (None, 9, 50, 100, 32)    4128      \n",
            "                                                                 \n",
            " batch_normalization_9 (Batc  (None, 9, 50, 100, 32)   128       \n",
            " hNormalization)                                                 \n",
            "                                                                 \n",
            " max_pooling3d_9 (MaxPooling  (None, 4, 25, 50, 32)    0         \n",
            " 3D)                                                             \n",
            "                                                                 \n",
            " dropout_5 (Dropout)         (None, 4, 25, 50, 32)     0         \n",
            "                                                                 \n",
            " conv3d_10 (Conv3D)          (None, 4, 25, 50, 64)     16448     \n",
            "                                                                 \n",
            " batch_normalization_10 (Bat  (None, 4, 25, 50, 64)    256       \n",
            " chNormalization)                                                \n",
            "                                                                 \n",
            " max_pooling3d_10 (MaxPoolin  (None, 2, 12, 25, 64)    0         \n",
            " g3D)                                                            \n",
            "                                                                 \n",
            " dropout_6 (Dropout)         (None, 2, 12, 25, 64)     0         \n",
            "                                                                 \n",
            " conv3d_11 (Conv3D)          (None, 2, 12, 25, 128)    65664     \n",
            "                                                                 \n",
            " batch_normalization_11 (Bat  (None, 2, 12, 25, 128)   512       \n",
            " chNormalization)                                                \n",
            "                                                                 \n",
            " max_pooling3d_11 (MaxPoolin  (None, 1, 6, 12, 128)    0         \n",
            " g3D)                                                            \n",
            "                                                                 \n",
            " dropout_7 (Dropout)         (None, 1, 6, 12, 128)     0         \n",
            "                                                                 \n",
            " conv3d_12 (Conv3D)          (None, 1, 6, 12, 256)     262400    \n",
            "                                                                 \n",
            " batch_normalization_12 (Bat  (None, 1, 6, 12, 256)    1024      \n",
            " chNormalization)                                                \n",
            "                                                                 \n",
            " max_pooling3d_12 (MaxPoolin  (None, 1, 6, 12, 256)    0         \n",
            " g3D)                                                            \n",
            "                                                                 \n",
            " dropout_8 (Dropout)         (None, 1, 6, 12, 256)     0         \n",
            "                                                                 \n",
            " flatten_2 (Flatten)         (None, 18432)             0         \n",
            "                                                                 \n",
            " dropout_9 (Dropout)         (None, 18432)             0         \n",
            "                                                                 \n",
            " dense_4 (Dense)             (None, 512)               9437696   \n",
            "                                                                 \n",
            " batch_normalization_13 (Bat  (None, 512)              2048      \n",
            " chNormalization)                                                \n",
            "                                                                 \n",
            " dropout_10 (Dropout)        (None, 512)               0         \n",
            "                                                                 \n",
            " dense_5 (Dense)             (None, 5)                 2565      \n",
            "                                                                 \n",
            "=================================================================\n",
            "Total params: 9,793,333\n",
            "Trainable params: 9,791,317\n",
            "Non-trainable params: 2,016\n",
            "_________________________________________________________________\n",
            "None\n"
          ]
        }
      ],
      "source": [
        "\n",
        "num_classes = 5\n",
        "model = Sequential()\n",
        "\n",
        "model.add(Conv3D(16, kernel_size=(2,2,2), padding='same', input_shape=(18,100,100,3), activation='elu'))\n",
        "model.add(BatchNormalization())\n",
        "model.add(MaxPooling3D(pool_size=(2,2,1), strides=(2,2,1)))\n",
        "model.add(Dropout(0.25))\n",
        "\n",
        "model.add(Conv3D(32, kernel_size=(2,2,2), padding='same', activation='elu'))\n",
        "model.add(BatchNormalization())\n",
        "model.add(MaxPooling3D(pool_size=(2,2,2), strides=(2,2,2)))\n",
        "model.add(Dropout(0.25))\n",
        "\n",
        "model.add(Conv3D(64, kernel_size=(2,2,2), padding='same', activation='elu'))\n",
        "model.add(BatchNormalization())\n",
        "model.add(MaxPooling3D(pool_size=(2,2,2), strides=(2,2,2)))\n",
        "model.add(Dropout(0.25))\n",
        "\n",
        "model.add(Conv3D(128, kernel_size=(2,2,2), padding='same', activation='elu'))\n",
        "model.add(BatchNormalization())\n",
        "model.add(MaxPooling3D(pool_size=(2,2,2), strides=(2,2,2)))\n",
        "model.add(Dropout(0.25))\n",
        "\n",
        "model.add(Conv3D(256, kernel_size=(2,2,2), padding='same', activation='elu'))\n",
        "model.add(BatchNormalization())\n",
        "model.add(MaxPooling3D(pool_size=(1,1,1), strides=(1,1,1)))\n",
        "model.add(Dropout(0.25))\n",
        "\n",
        "model.add(Flatten())\n",
        "model.add(Dropout(0.5))\n",
        "model.add(Dense(512, activation='elu'))\n",
        "model.add(BatchNormalization())\n",
        "model.add(Dropout(0.5))\n",
        "\n",
        "\n",
        "model.add(Dense(num_classes,activation='softmax'))\n",
        "\n",
        "print(model.summary())"
      ]
    },
    {
      "cell_type": "code",
      "execution_count": null,
      "metadata": {
        "id": "aW65tBi12iDZ"
      },
      "outputs": [],
      "source": [
        "optimiser = 'adam'\n",
        "model.compile(optimizer=optimiser, loss='categorical_crossentropy', metrics=['categorical_accuracy'])"
      ]
    },
    {
      "cell_type": "code",
      "execution_count": null,
      "metadata": {
        "id": "IllbCxQ62mZC"
      },
      "outputs": [],
      "source": [
        "batch_size = 64\n",
        "train_generator = generator(train_path, train_doc[:240], batch_size)\n",
        "val_generator = generator(val_path, val_doc[:30], batch_size)"
      ]
    },
    {
      "cell_type": "code",
      "execution_count": null,
      "metadata": {
        "colab": {
          "base_uri": "https://localhost:8080/"
        },
        "id": "ViOBSQeN2tKp",
        "outputId": "c07c6a06-374d-4486-e278-2fd212b20c3c"
      },
      "outputs": [
        {
          "output_type": "stream",
          "name": "stderr",
          "text": [
            "WARNING:tensorflow:`period` argument is deprecated. Please use `save_freq` to specify the frequency in number of batches seen.\n"
          ]
        }
      ],
      "source": [
        "model_name = 'model_init' + '_' + str(curr_dt_time).replace(' ','').replace(':','_') + '/'\n",
        "    \n",
        "if not os.path.exists(model_name):\n",
        "    os.mkdir(model_name)\n",
        "        \n",
        "filepath = model_name + 'model-{epoch:05d}-{loss:.5f}-{categorical_accuracy:.5f}-{val_loss:.5f}-{val_categorical_accuracy:.5f}.h5'\n",
        "\n",
        "checkpoint = ModelCheckpoint(filepath, monitor='val_loss', verbose=1, save_best_only=False, save_weights_only=False, mode='auto', period=1)\n",
        "\n",
        "LR = ReduceLROnPlateau(monitor='val_loss', factor=0.2, verbose=1, patience=4)\n",
        "callbacks_list = [checkpoint, LR]"
      ]
    },
    {
      "cell_type": "code",
      "execution_count": null,
      "metadata": {
        "id": "XL3A0mQ02wyS"
      },
      "outputs": [],
      "source": [
        "if (num_train_sequences%batch_size) == 0:\n",
        "    steps_per_epoch = int(num_train_sequences/batch_size)\n",
        "else:\n",
        "    steps_per_epoch = (num_train_sequences//batch_size) + 1\n",
        "\n",
        "if (num_val_sequences%batch_size) == 0:\n",
        "    validation_steps = int(num_val_sequences/batch_size)\n",
        "else:\n",
        "    validation_steps = (num_val_sequences//batch_size) + 1"
      ]
    },
    {
      "cell_type": "code",
      "execution_count": null,
      "metadata": {
        "colab": {
          "base_uri": "https://localhost:8080/"
        },
        "id": "JGN868kY20RX",
        "outputId": "7d83001a-6e9d-44e6-b81f-ae2e1dec3067"
      },
      "outputs": [
        {
          "output_type": "stream",
          "name": "stdout",
          "text": [
            "Source path =  /content/Project_data/train ; batch size = 64\n",
            "Epoch 1/25\n",
            "11/11 [==============================] - ETA: 0s - loss: 1.8574 - categorical_accuracy: 0.5134Source path =  /content/Project_data/val ; batch size = 64\n",
            "\n",
            "Epoch 1: saving model to model_init_2023-02-1303_49_13.772526/model-00001-1.85743-0.51339-3.03614-0.23333.h5\n",
            "11/11 [==============================] - 133s 12s/step - loss: 1.8574 - categorical_accuracy: 0.5134 - val_loss: 3.0361 - val_categorical_accuracy: 0.2333 - lr: 0.0010\n",
            "Epoch 2/25\n",
            "11/11 [==============================] - ETA: 0s - loss: 1.0274 - categorical_accuracy: 0.7271 \n",
            "Epoch 2: saving model to model_init_2023-02-1303_49_13.772526/model-00002-1.02736-0.72713-8.56063-0.16667.h5\n",
            "11/11 [==============================] - 128s 13s/step - loss: 1.0274 - categorical_accuracy: 0.7271 - val_loss: 8.5606 - val_categorical_accuracy: 0.1667 - lr: 0.0010\n",
            "Epoch 3/25\n",
            "11/11 [==============================] - ETA: 0s - loss: 0.6276 - categorical_accuracy: 0.8293 \n",
            "Epoch 3: saving model to model_init_2023-02-1303_49_13.772526/model-00003-0.62756-0.82927-10.69312-0.16667.h5\n",
            "11/11 [==============================] - 125s 12s/step - loss: 0.6276 - categorical_accuracy: 0.8293 - val_loss: 10.6931 - val_categorical_accuracy: 0.1667 - lr: 0.0010\n",
            "Epoch 4/25\n",
            "11/11 [==============================] - ETA: 0s - loss: 0.4399 - categorical_accuracy: 0.8552 \n",
            "Epoch 4: saving model to model_init_2023-02-1303_49_13.772526/model-00004-0.43987-0.85518-14.59127-0.16667.h5\n",
            "11/11 [==============================] - 124s 12s/step - loss: 0.4399 - categorical_accuracy: 0.8552 - val_loss: 14.5913 - val_categorical_accuracy: 0.1667 - lr: 0.0010\n",
            "Epoch 5/25\n",
            "11/11 [==============================] - ETA: 0s - loss: 0.2137 - categorical_accuracy: 0.9152\n",
            "Epoch 5: saving model to model_init_2023-02-1303_49_13.772526/model-00005-0.21368-0.91518-16.04211-0.16667.h5\n",
            "\n",
            "Epoch 5: ReduceLROnPlateau reducing learning rate to 0.00020000000949949026.\n",
            "11/11 [==============================] - 123s 12s/step - loss: 0.2137 - categorical_accuracy: 0.9152 - val_loss: 16.0421 - val_categorical_accuracy: 0.1667 - lr: 0.0010\n",
            "Epoch 6/25\n",
            "11/11 [==============================] - ETA: 0s - loss: 0.2021 - categorical_accuracy: 0.9177 \n",
            "Epoch 6: saving model to model_init_2023-02-1303_49_13.772526/model-00006-0.20206-0.91768-16.97030-0.20000.h5\n",
            "11/11 [==============================] - 127s 13s/step - loss: 0.2021 - categorical_accuracy: 0.9177 - val_loss: 16.9703 - val_categorical_accuracy: 0.2000 - lr: 2.0000e-04\n",
            "Epoch 7/25\n",
            "11/11 [==============================] - ETA: 0s - loss: 0.1672 - categorical_accuracy: 0.9421\n",
            "Epoch 7: saving model to model_init_2023-02-1303_49_13.772526/model-00007-0.16716-0.94207-17.97273-0.16667.h5\n",
            "11/11 [==============================] - 119s 12s/step - loss: 0.1672 - categorical_accuracy: 0.9421 - val_loss: 17.9727 - val_categorical_accuracy: 0.1667 - lr: 2.0000e-04\n",
            "Epoch 8/25\n",
            "11/11 [==============================] - ETA: 0s - loss: 0.1500 - categorical_accuracy: 0.9497 \n",
            "Epoch 8: saving model to model_init_2023-02-1303_49_13.772526/model-00008-0.15002-0.94970-19.44225-0.16667.h5\n",
            "11/11 [==============================] - 122s 12s/step - loss: 0.1500 - categorical_accuracy: 0.9497 - val_loss: 19.4423 - val_categorical_accuracy: 0.1667 - lr: 2.0000e-04\n",
            "Epoch 9/25\n",
            "11/11 [==============================] - ETA: 0s - loss: 0.1495 - categorical_accuracy: 0.9449 \n",
            "Epoch 9: saving model to model_init_2023-02-1303_49_13.772526/model-00009-0.14952-0.94494-20.28560-0.16667.h5\n",
            "\n",
            "Epoch 9: ReduceLROnPlateau reducing learning rate to 4.0000001899898055e-05.\n",
            "11/11 [==============================] - 126s 13s/step - loss: 0.1495 - categorical_accuracy: 0.9449 - val_loss: 20.2856 - val_categorical_accuracy: 0.1667 - lr: 2.0000e-04\n",
            "Epoch 10/25\n",
            "11/11 [==============================] - ETA: 0s - loss: 0.1027 - categorical_accuracy: 0.9604\n",
            "Epoch 10: saving model to model_init_2023-02-1303_49_13.772526/model-00010-0.10265-0.96037-21.03502-0.16667.h5\n",
            "11/11 [==============================] - 126s 13s/step - loss: 0.1027 - categorical_accuracy: 0.9604 - val_loss: 21.0350 - val_categorical_accuracy: 0.1667 - lr: 4.0000e-05\n",
            "Epoch 11/25\n",
            "11/11 [==============================] - ETA: 0s - loss: 0.1117 - categorical_accuracy: 0.9665\n",
            "Epoch 11: saving model to model_init_2023-02-1303_49_13.772526/model-00011-0.11169-0.96646-21.66005-0.16667.h5\n",
            "11/11 [==============================] - 120s 12s/step - loss: 0.1117 - categorical_accuracy: 0.9665 - val_loss: 21.6601 - val_categorical_accuracy: 0.1667 - lr: 4.0000e-05\n",
            "Epoch 12/25\n",
            "11/11 [==============================] - ETA: 0s - loss: 0.0990 - categorical_accuracy: 0.9558\n",
            "Epoch 12: saving model to model_init_2023-02-1303_49_13.772526/model-00012-0.09900-0.95579-22.17594-0.20000.h5\n",
            "11/11 [==============================] - 120s 12s/step - loss: 0.0990 - categorical_accuracy: 0.9558 - val_loss: 22.1759 - val_categorical_accuracy: 0.2000 - lr: 4.0000e-05\n",
            "Epoch 13/25\n",
            "11/11 [==============================] - ETA: 0s - loss: 0.0719 - categorical_accuracy: 0.9792\n",
            "Epoch 13: saving model to model_init_2023-02-1303_49_13.772526/model-00013-0.07186-0.97917-22.59318-0.20000.h5\n",
            "\n",
            "Epoch 13: ReduceLROnPlateau reducing learning rate to 8.000000525498762e-06.\n",
            "11/11 [==============================] - 120s 12s/step - loss: 0.0719 - categorical_accuracy: 0.9792 - val_loss: 22.5932 - val_categorical_accuracy: 0.2000 - lr: 4.0000e-05\n",
            "Epoch 14/25\n",
            "11/11 [==============================] - ETA: 0s - loss: 0.0983 - categorical_accuracy: 0.9741 \n",
            "Epoch 14: saving model to model_init_2023-02-1303_49_13.772526/model-00014-0.09830-0.97409-22.94051-0.20000.h5\n",
            "11/11 [==============================] - 128s 13s/step - loss: 0.0983 - categorical_accuracy: 0.9741 - val_loss: 22.9405 - val_categorical_accuracy: 0.2000 - lr: 8.0000e-06\n",
            "Epoch 15/25\n",
            "11/11 [==============================] - ETA: 0s - loss: 0.1004 - categorical_accuracy: 0.9680 \n",
            "Epoch 15: saving model to model_init_2023-02-1303_49_13.772526/model-00015-0.10039-0.96799-23.14322-0.20000.h5\n",
            "11/11 [==============================] - 128s 13s/step - loss: 0.1004 - categorical_accuracy: 0.9680 - val_loss: 23.1432 - val_categorical_accuracy: 0.2000 - lr: 8.0000e-06\n",
            "Epoch 16/25\n",
            "11/11 [==============================] - ETA: 0s - loss: 0.1197 - categorical_accuracy: 0.9543\n",
            "Epoch 16: saving model to model_init_2023-02-1303_49_13.772526/model-00016-0.11967-0.95427-23.46062-0.20000.h5\n",
            "11/11 [==============================] - 121s 12s/step - loss: 0.1197 - categorical_accuracy: 0.9543 - val_loss: 23.4606 - val_categorical_accuracy: 0.2000 - lr: 8.0000e-06\n",
            "Epoch 17/25\n",
            "11/11 [==============================] - ETA: 0s - loss: 0.1029 - categorical_accuracy: 0.9613 \n",
            "Epoch 17: saving model to model_init_2023-02-1303_49_13.772526/model-00017-0.10294-0.96131-23.62274-0.20000.h5\n",
            "\n",
            "Epoch 17: ReduceLROnPlateau reducing learning rate to 1.6000001778593287e-06.\n",
            "11/11 [==============================] - 124s 12s/step - loss: 0.1029 - categorical_accuracy: 0.9613 - val_loss: 23.6227 - val_categorical_accuracy: 0.2000 - lr: 8.0000e-06\n",
            "Epoch 18/25\n",
            "11/11 [==============================] - ETA: 0s - loss: 0.0800 - categorical_accuracy: 0.9741 \n",
            "Epoch 18: saving model to model_init_2023-02-1303_49_13.772526/model-00018-0.07998-0.97409-23.78846-0.20000.h5\n",
            "11/11 [==============================] - 126s 13s/step - loss: 0.0800 - categorical_accuracy: 0.9741 - val_loss: 23.7885 - val_categorical_accuracy: 0.2000 - lr: 1.6000e-06\n",
            "Epoch 19/25\n",
            "11/11 [==============================] - ETA: 0s - loss: 0.1089 - categorical_accuracy: 0.9604\n",
            "Epoch 19: saving model to model_init_2023-02-1303_49_13.772526/model-00019-0.10890-0.96037-23.90716-0.20000.h5\n",
            "11/11 [==============================] - 122s 12s/step - loss: 0.1089 - categorical_accuracy: 0.9604 - val_loss: 23.9072 - val_categorical_accuracy: 0.2000 - lr: 1.6000e-06\n",
            "Epoch 20/25\n",
            "11/11 [==============================] - ETA: 0s - loss: 0.1201 - categorical_accuracy: 0.9573 \n",
            "Epoch 20: saving model to model_init_2023-02-1303_49_13.772526/model-00020-0.12013-0.95732-24.01136-0.16667.h5\n",
            "11/11 [==============================] - 127s 13s/step - loss: 0.1201 - categorical_accuracy: 0.9573 - val_loss: 24.0114 - val_categorical_accuracy: 0.1667 - lr: 1.6000e-06\n",
            "Epoch 21/25\n",
            "11/11 [==============================] - ETA: 0s - loss: 0.1024 - categorical_accuracy: 0.9658 \n",
            "Epoch 21: saving model to model_init_2023-02-1303_49_13.772526/model-00021-0.10244-0.96577-23.87884-0.16667.h5\n",
            "\n",
            "Epoch 21: ReduceLROnPlateau reducing learning rate to 3.200000264769187e-07.\n",
            "11/11 [==============================] - 125s 12s/step - loss: 0.1024 - categorical_accuracy: 0.9658 - val_loss: 23.8788 - val_categorical_accuracy: 0.1667 - lr: 1.6000e-06\n",
            "Epoch 22/25\n",
            "11/11 [==============================] - ETA: 0s - loss: 0.0889 - categorical_accuracy: 0.9726 \n",
            "Epoch 22: saving model to model_init_2023-02-1303_49_13.772526/model-00022-0.08891-0.97256-23.82893-0.16667.h5\n",
            "11/11 [==============================] - 126s 13s/step - loss: 0.0889 - categorical_accuracy: 0.9726 - val_loss: 23.8289 - val_categorical_accuracy: 0.1667 - lr: 3.2000e-07\n",
            "Epoch 23/25\n",
            "11/11 [==============================] - ETA: 0s - loss: 0.1088 - categorical_accuracy: 0.9649 \n",
            "Epoch 23: saving model to model_init_2023-02-1303_49_13.772526/model-00023-0.10876-0.96494-23.65182-0.16667.h5\n",
            "11/11 [==============================] - 146s 15s/step - loss: 0.1088 - categorical_accuracy: 0.9649 - val_loss: 23.6518 - val_categorical_accuracy: 0.1667 - lr: 3.2000e-07\n",
            "Epoch 24/25\n",
            "11/11 [==============================] - ETA: 0s - loss: 0.0950 - categorical_accuracy: 0.9649 \n",
            "Epoch 24: saving model to model_init_2023-02-1303_49_13.772526/model-00024-0.09502-0.96494-23.46832-0.16667.h5\n",
            "11/11 [==============================] - 124s 12s/step - loss: 0.0950 - categorical_accuracy: 0.9649 - val_loss: 23.4683 - val_categorical_accuracy: 0.1667 - lr: 3.2000e-07\n",
            "Epoch 25/25\n",
            "11/11 [==============================] - ETA: 0s - loss: 0.0813 - categorical_accuracy: 0.9717 \n",
            "Epoch 25: saving model to model_init_2023-02-1303_49_13.772526/model-00025-0.08129-0.97173-23.34408-0.16667.h5\n",
            "\n",
            "Epoch 25: ReduceLROnPlateau reducing learning rate to 6.400000529538374e-08.\n",
            "11/11 [==============================] - 127s 13s/step - loss: 0.0813 - categorical_accuracy: 0.9717 - val_loss: 23.3441 - val_categorical_accuracy: 0.1667 - lr: 3.2000e-07\n"
          ]
        }
      ],
      "source": [
        "num_epochs = 25\n",
        "history = model.fit_generator(train_generator, steps_per_epoch=steps_per_epoch, epochs=num_epochs, verbose=1, \n",
        "                    callbacks=callbacks_list, validation_data=val_generator, \n",
        "                    validation_steps=validation_steps, class_weight=None, workers=1, initial_epoch=0)"
      ]
    },
    {
      "cell_type": "code",
      "execution_count": null,
      "metadata": {
        "colab": {
          "base_uri": "https://localhost:8080/",
          "height": 497
        },
        "id": "Icz4VdTrHw6Z",
        "outputId": "f28795b1-a791-4966-ddb6-61cba5441013"
      },
      "outputs": [
        {
          "output_type": "display_data",
          "data": {
            "text/plain": [
              "<Figure size 576x576 with 2 Axes>"
            ],
            "image/png": "[encoded data removed]"
          },
          "metadata": {
            "needs_background": "light"
          }
        }
      ],
      "source": [
        "acc = history.history['categorical_accuracy']\n",
        "val_acc = history.history['val_categorical_accuracy']\n",
        "\n",
        "loss = history.history['loss']\n",
        "val_loss = history.history['val_loss']\n",
        "\n",
        "epochs_range = range(num_epochs)\n",
        "\n",
        "plt.figure(figsize=(8, 8))\n",
        "plt.subplot(1, 2, 1)\n",
        "plt.plot(epochs_range, acc, label='Training Accuracy')\n",
        "plt.plot(epochs_range, val_acc, label='Validation Accuracy')\n",
        "plt.legend(loc='best')\n",
        "plt.title('Training and Validation Accuracy', size=10, color='r')\n",
        "\n",
        "plt.subplot(1, 2, 2)\n",
        "plt.plot(epochs_range, loss, label='Training Loss')\n",
        "plt.plot(epochs_range, val_loss, label='Validation Loss')\n",
        "plt.legend(loc='best')\n",
        "plt.title('Training and Validation Loss', size=10, color='r')\n",
        "plt.show()"
      ]
    },
    {
      "cell_type": "markdown",
      "metadata": {
        "id": "L_JzMHuC32Fo"
      },
      "source": [
        "# Model - 03\n",
        "\n",
        "## Let's try CNN + RNN "
      ]
    },
    {
      "cell_type": "code",
      "execution_count": null,
      "metadata": {
        "id": "mTcxVQ_NG0s7"
      },
      "outputs": [],
      "source": [
        "def generator(source_path, folder_list, batch_size):\n",
        "    print( 'Source path = ', source_path, '; batch size =', batch_size)\n",
        "    img_idx = np.round(np.linspace(start = 1, stop = 29, num=20)).astype('int') # Here we are defining that out of 30 how many images/frames we want to consider and we took 18 images\n",
        "    while True:\n",
        "        t = np.random.permutation(folder_list)\n",
        "# As, in the project data there is train.csv and val.csv which contains the data regarding images and arranged in such a order that class 0 is at starting and this goes on consecutively till class 5\n",
        "# So, these classes are in sequence so this can create bias in the data, so we need to shuffle them to learn robustly and for this we are using \"np.random.permutation\"\n",
        "\n",
        "        num_batches = len(t) // batch_size                              # calculate the number of batches\n",
        "        for batch in range(num_batches):                                # we iterate over the number of batches\n",
        "            batch_data = np.zeros((batch_size,20,100,100,3))         # 18 is the number of images you use for each video, (y,z) is the final size of the input images and 3 is the number of channels RGB\n",
        "            batch_labels = np.zeros((batch_size,5))                     # batch_labels is the one hot representation of the output\n",
        "            for folder in range(batch_size):                            # iterate over the batch_size\n",
        "                imgs = os.listdir(source_path+'/'+ t[folder + (batch*batch_size)].split(';')[0]) # read all the images in the folder\n",
        "                for idx,item in enumerate(img_idx):                     #  Iterate over the frames/images of a folder to read them in\n",
        "                    image = imread(source_path+'/'+ t[folder + (batch*batch_size)].strip().split(';')[0]+'/'+imgs[item]).astype(np.float32)\n",
        "                    image_resized = resize(image,(100,100,3)).astype(np.float32)\n",
        "\n",
        "                    #crop the images and resize them. Note that the images are of 2 different shape \n",
        "                    #and the conv3D will throw error if the inputs in a batch have different shapes\n",
        "                    \n",
        "                    batch_data[folder,idx,:,:,0] =     (image_resized[:, :,0])/255.0               #normalise and feed in the image\n",
        "                    batch_data[folder,idx,:,:,1] =     (image_resized[:, :,1])/255.0               #normalise and feed in the image\n",
        "                    batch_data[folder,idx,:,:,2] =     (image_resized[:, :,2])/255.0               #normalise and feed in the image\n",
        "                    \n",
        "                batch_labels[folder, int(t[folder + (batch*batch_size)].strip().split(';')[2])] = 1\n",
        "            yield batch_data, batch_labels #you yield the batch_data and the batch_labels, remember what does yield do\n",
        "        \n",
        "        # write the code for the remaining data points which are left after full batches\n",
        "        \n",
        "        remaining_seq = len(t) % batch_size \n",
        "        if (remaining_seq!= 0):\n",
        "            \n",
        "            batch_data = np.zeros((remaining_seq,20,100,100,3)) # here first we specified the remaining_seq because the remaining sequence or images are not in the multiple of batch_size and because of this\n",
        "          #  we defined the shape such that no sequence is left over \n",
        "            batch_labels = np.zeros((remaining_seq,5))\n",
        "            \n",
        "            for folder in range(remaining_seq):\n",
        "                # iterate over the batch_size\n",
        "                imgs = os.listdir(source_path+'/'+ t[folder + (num_batches*remaining_seq)].split(';')[0]) # read all the images in the folder\n",
        "                for idx,item in enumerate(img_idx):                     #  Iterate iver the frames/images of a folder to read them in\n",
        "                    image = imread(source_path+'/'+ t[folder + (num_batches*remaining_seq)].strip().split(';')[0]+'/'+imgs[item]).astype(np.float32)\n",
        "                    image_resized = resize(image,(100,100,3)).astype(np.float32)\n",
        "\n",
        "                    #crop the images and resize them. Note that the images are of 2 different shape \n",
        "                    #and the conv3D will throw error if the inputs in a batch have different shapes\n",
        "                    \n",
        "                    batch_data[folder,idx,:,:,0] =     (image_resized[:, :,0])/255.0               #normalise and feed in the image\n",
        "                    batch_data[folder,idx,:,:,1] =     (image_resized[:, :,1])/255.0               #normalise and feed in the image\n",
        "                    batch_data[folder,idx,:,:,2] =     (image_resized[:, :,2])/255.0               #normalise and feed in the image\n",
        "                    \n",
        "                batch_labels[folder, int(t[folder + (num_batches*remaining_seq)].strip().split(';')[2])] = 1\n",
        "            yield batch_data, batch_labels\n"
      ]
    },
    {
      "cell_type": "code",
      "execution_count": null,
      "metadata": {
        "colab": {
          "base_uri": "https://localhost:8080/"
        },
        "id": "N-aQXJLAbY09",
        "outputId": "47c98ecd-849c-4085-f12d-5ad25fc44958"
      },
      "outputs": [
        {
          "output_type": "stream",
          "name": "stdout",
          "text": [
            "Model: \"sequential\"\n",
            "_________________________________________________________________\n",
            " Layer (type)                Output Shape              Param #   \n",
            "=================================================================\n",
            " time_distributed (TimeDistr  (None, 20, 100, 100, 16)  208      \n",
            " ibuted)                                                         \n",
            "                                                                 \n",
            " time_distributed_1 (TimeDis  (None, 20, 100, 100, 16)  64       \n",
            " tributed)                                                       \n",
            "                                                                 \n",
            " time_distributed_2 (TimeDis  (None, 20, 50, 50, 16)   0         \n",
            " tributed)                                                       \n",
            "                                                                 \n",
            " time_distributed_3 (TimeDis  (None, 20, 50, 50, 32)   2080      \n",
            " tributed)                                                       \n",
            "                                                                 \n",
            " time_distributed_4 (TimeDis  (None, 20, 50, 50, 32)   128       \n",
            " tributed)                                                       \n",
            "                                                                 \n",
            " time_distributed_5 (TimeDis  (None, 20, 25, 25, 32)   0         \n",
            " tributed)                                                       \n",
            "                                                                 \n",
            " time_distributed_6 (TimeDis  (None, 20, 25, 25, 64)   8256      \n",
            " tributed)                                                       \n",
            "                                                                 \n",
            " time_distributed_7 (TimeDis  (None, 20, 25, 25, 64)   256       \n",
            " tributed)                                                       \n",
            "                                                                 \n",
            " time_distributed_8 (TimeDis  (None, 20, 12, 12, 64)   0         \n",
            " tributed)                                                       \n",
            "                                                                 \n",
            " time_distributed_9 (TimeDis  (None, 20, 12, 12, 128)  32896     \n",
            " tributed)                                                       \n",
            "                                                                 \n",
            " time_distributed_10 (TimeDi  (None, 20, 12, 12, 128)  512       \n",
            " stributed)                                                      \n",
            "                                                                 \n",
            " time_distributed_11 (TimeDi  (None, 20, 6, 6, 128)    0         \n",
            " stributed)                                                      \n",
            "                                                                 \n",
            " time_distributed_12 (TimeDi  (None, 20, 6, 6, 256)    131328    \n",
            " stributed)                                                      \n",
            "                                                                 \n",
            " time_distributed_13 (TimeDi  (None, 20, 6, 6, 256)    1024      \n",
            " stributed)                                                      \n",
            "                                                                 \n",
            " time_distributed_14 (TimeDi  (None, 20, 3, 3, 256)    0         \n",
            " stributed)                                                      \n",
            "                                                                 \n",
            " time_distributed_15 (TimeDi  (None, 20, 2304)         0         \n",
            " stributed)                                                      \n",
            "                                                                 \n",
            " gru (GRU)                   (None, 64)                455040    \n",
            "                                                                 \n",
            " dropout (Dropout)           (None, 64)                0         \n",
            "                                                                 \n",
            " dense (Dense)               (None, 64)                4160      \n",
            "                                                                 \n",
            " dropout_1 (Dropout)         (None, 64)                0         \n",
            "                                                                 \n",
            " dense_1 (Dense)             (None, 5)                 325       \n",
            "                                                                 \n",
            "=================================================================\n",
            "Total params: 636,277\n",
            "Trainable params: 635,285\n",
            "Non-trainable params: 992\n",
            "_________________________________________________________________\n"
          ]
        }
      ],
      "source": [
        "model = Sequential()\n",
        "\n",
        "model.add(TimeDistributed(Conv2D(16, (2, 2) , padding='same', activation='elu'),input_shape=(20,100,100,3)))\n",
        "model.add(TimeDistributed(BatchNormalization()))\n",
        "model.add(TimeDistributed(MaxPooling2D((2, 2), strides=(2,2))))\n",
        "        \n",
        "model.add(TimeDistributed(Conv2D(32, (2, 2) , padding='same', activation='elu')))\n",
        "model.add(TimeDistributed(BatchNormalization()))\n",
        "model.add(TimeDistributed(MaxPooling2D((2, 2), strides=(2,2))))\n",
        "        \n",
        "model.add(TimeDistributed(Conv2D(64, (2, 2) , padding='same', activation='elu')))\n",
        "model.add(TimeDistributed(BatchNormalization()))\n",
        "model.add(TimeDistributed(MaxPooling2D((2, 2), strides=(2,2))))\n",
        "        \n",
        "model.add(TimeDistributed(Conv2D(128, (2, 2) , padding='same', activation='elu')))\n",
        "model.add(TimeDistributed(BatchNormalization()))\n",
        "model.add(TimeDistributed(MaxPooling2D((2, 2), strides=(2,2))))\n",
        "        \n",
        "model.add(TimeDistributed(Conv2D(256, (2, 2) , padding='same', activation='elu')))\n",
        "model.add(TimeDistributed(BatchNormalization()))\n",
        "model.add(TimeDistributed(MaxPooling2D((2, 2), strides=(2,2))))\n",
        "\n",
        "model.add(TimeDistributed(Flatten()))\n",
        "model.add(GRU(64))\n",
        "model.add(Dropout(0.5))\n",
        "\n",
        "model.add(Dense(64,activation='elu'))\n",
        "model.add(Dropout(0.5))\n",
        "model.add(Dense(5, activation='softmax'))\n",
        "\n",
        "model.summary()"
      ]
    },
    {
      "cell_type": "code",
      "execution_count": null,
      "metadata": {
        "id": "UsmQvsJKv4_p"
      },
      "outputs": [],
      "source": [
        "optimiser = 'adam'\n",
        "model.compile(optimizer=optimiser, loss='categorical_crossentropy', metrics=['categorical_accuracy'])"
      ]
    },
    {
      "cell_type": "code",
      "execution_count": null,
      "metadata": {
        "id": "LmbK0ENxwNll"
      },
      "outputs": [],
      "source": [
        "batch_size = 64\n",
        "train_generator = generator(train_path, train_doc[:400], batch_size)\n",
        "val_generator = generator(val_path, val_doc[:50], batch_size)"
      ]
    },
    {
      "cell_type": "code",
      "execution_count": null,
      "metadata": {
        "colab": {
          "base_uri": "https://localhost:8080/"
        },
        "id": "yINAv-pXwOBk",
        "outputId": "9cc5f1e2-647f-474b-e1b6-c76325587abf"
      },
      "outputs": [
        {
          "output_type": "stream",
          "name": "stderr",
          "text": [
            "WARNING:tensorflow:`period` argument is deprecated. Please use `save_freq` to specify the frequency in number of batches seen.\n"
          ]
        }
      ],
      "source": [
        "model_name = 'model_init' + '_' + str(curr_dt_time).replace(' ','').replace(':','_') + '/'\n",
        "    \n",
        "if not os.path.exists(model_name):\n",
        "    os.mkdir(model_name)\n",
        "        \n",
        "filepath = model_name + 'model-{epoch:05d}-{loss:.5f}-{categorical_accuracy:.5f}-{val_loss:.5f}-{val_categorical_accuracy:.5f}.h5'\n",
        "\n",
        "checkpoint = ModelCheckpoint(filepath, monitor='val_loss', verbose=1, save_best_only=False, save_weights_only=False, mode='auto', period=1)\n",
        "\n",
        "LR = ReduceLROnPlateau(monitor='val_loss', factor=0.2, verbose=1, patience=4)\n",
        "callbacks_list = [checkpoint, LR]"
      ]
    },
    {
      "cell_type": "code",
      "execution_count": null,
      "metadata": {
        "id": "BrBgv6UMwREg"
      },
      "outputs": [],
      "source": [
        "if (num_train_sequences%batch_size) == 0:\n",
        "    steps_per_epoch = int(num_train_sequences/batch_size)\n",
        "else:\n",
        "    steps_per_epoch = (num_train_sequences//batch_size) + 1\n",
        "\n",
        "if (num_val_sequences%batch_size) == 0:\n",
        "    validation_steps = int(num_val_sequences/batch_size)\n",
        "else:\n",
        "    validation_steps = (num_val_sequences//batch_size) + 1"
      ]
    },
    {
      "cell_type": "code",
      "execution_count": null,
      "metadata": {
        "colab": {
          "base_uri": "https://localhost:8080/"
        },
        "id": "clvsD848wUV3",
        "outputId": "31f6803c-ae2d-4c7b-ca60-af937b8d25e3"
      },
      "outputs": [
        {
          "output_type": "stream",
          "name": "stdout",
          "text": [
            "Source path =  /content/Project_data/train ; batch size = 64\n",
            "Epoch 1/25\n",
            "11/11 [==============================] - ETA: 0s - loss: 1.9887 - categorical_accuracy: 0.2622Source path =  /content/Project_data/val ; batch size = 64\n",
            "\n",
            "Epoch 1: saving model to model_init_2023-02-1310_16_47.459009/model-00001-1.98867-0.26220-1.91061-0.26000.h5\n",
            "11/11 [==============================] - 167s 14s/step - loss: 1.9887 - categorical_accuracy: 0.2622 - val_loss: 1.9106 - val_categorical_accuracy: 0.2600 - lr: 0.0010\n",
            "Epoch 2/25\n",
            "11/11 [==============================] - ETA: 0s - loss: 1.5453 - categorical_accuracy: 0.3947\n",
            "Epoch 2: saving model to model_init_2023-02-1310_16_47.459009/model-00002-1.54528-0.39474-2.13829-0.22000.h5\n",
            "11/11 [==============================] - 141s 14s/step - loss: 1.5453 - categorical_accuracy: 0.3947 - val_loss: 2.1383 - val_categorical_accuracy: 0.2200 - lr: 0.0010\n",
            "Epoch 3/25\n",
            "11/11 [==============================] - ETA: 0s - loss: 1.3454 - categorical_accuracy: 0.4787 \n",
            "Epoch 3: saving model to model_init_2023-02-1310_16_47.459009/model-00003-1.34545-0.47866-2.29164-0.22000.h5\n",
            "11/11 [==============================] - 152s 15s/step - loss: 1.3454 - categorical_accuracy: 0.4787 - val_loss: 2.2916 - val_categorical_accuracy: 0.2200 - lr: 0.0010\n",
            "Epoch 4/25\n",
            "11/11 [==============================] - ETA: 0s - loss: 1.1047 - categorical_accuracy: 0.5609\n",
            "Epoch 4: saving model to model_init_2023-02-1310_16_47.459009/model-00004-1.10475-0.56086-2.56152-0.22000.h5\n",
            "11/11 [==============================] - 142s 14s/step - loss: 1.1047 - categorical_accuracy: 0.5609 - val_loss: 2.5615 - val_categorical_accuracy: 0.2200 - lr: 0.0010\n",
            "Epoch 5/25\n",
            "11/11 [==============================] - ETA: 0s - loss: 1.1256 - categorical_accuracy: 0.5518 \n",
            "Epoch 5: saving model to model_init_2023-02-1310_16_47.459009/model-00005-1.12565-0.55183-2.53193-0.20000.h5\n",
            "\n",
            "Epoch 5: ReduceLROnPlateau reducing learning rate to 0.00020000000949949026.\n",
            "11/11 [==============================] - 151s 15s/step - loss: 1.1256 - categorical_accuracy: 0.5518 - val_loss: 2.5319 - val_categorical_accuracy: 0.2000 - lr: 0.0010\n",
            "Epoch 6/25\n",
            "11/11 [==============================] - ETA: 0s - loss: 0.9586 - categorical_accuracy: 0.6250 \n",
            "Epoch 6: saving model to model_init_2023-02-1310_16_47.459009/model-00006-0.95863-0.62500-2.65538-0.20000.h5\n",
            "11/11 [==============================] - 150s 15s/step - loss: 0.9586 - categorical_accuracy: 0.6250 - val_loss: 2.6554 - val_categorical_accuracy: 0.2000 - lr: 2.0000e-04\n",
            "Epoch 7/25\n",
            "11/11 [==============================] - ETA: 0s - loss: 0.8964 - categorical_accuracy: 0.6661 \n",
            "Epoch 7: saving model to model_init_2023-02-1310_16_47.459009/model-00007-0.89644-0.66612-2.73054-0.18000.h5\n",
            "11/11 [==============================] - 141s 14s/step - loss: 0.8964 - categorical_accuracy: 0.6661 - val_loss: 2.7305 - val_categorical_accuracy: 0.1800 - lr: 2.0000e-04\n",
            "Epoch 8/25\n",
            "11/11 [==============================] - ETA: 0s - loss: 0.8548 - categorical_accuracy: 0.6677 \n",
            "Epoch 8: saving model to model_init_2023-02-1310_16_47.459009/model-00008-0.85479-0.66768-2.82391-0.20000.h5\n",
            "11/11 [==============================] - 153s 15s/step - loss: 0.8548 - categorical_accuracy: 0.6677 - val_loss: 2.8239 - val_categorical_accuracy: 0.2000 - lr: 2.0000e-04\n",
            "Epoch 9/25\n",
            "11/11 [==============================] - ETA: 0s - loss: 0.7532 - categorical_accuracy: 0.6990\n",
            "Epoch 9: saving model to model_init_2023-02-1310_16_47.459009/model-00009-0.75318-0.69901-2.87342-0.18000.h5\n",
            "\n",
            "Epoch 9: ReduceLROnPlateau reducing learning rate to 4.0000001899898055e-05.\n",
            "11/11 [==============================] - 139s 14s/step - loss: 0.7532 - categorical_accuracy: 0.6990 - val_loss: 2.8734 - val_categorical_accuracy: 0.1800 - lr: 2.0000e-04\n",
            "Epoch 10/25\n",
            "11/11 [==============================] - ETA: 0s - loss: 0.7404 - categorical_accuracy: 0.6966 \n",
            "Epoch 10: saving model to model_init_2023-02-1310_16_47.459009/model-00010-0.74036-0.69665-2.92115-0.18000.h5\n",
            "11/11 [==============================] - 152s 15s/step - loss: 0.7404 - categorical_accuracy: 0.6966 - val_loss: 2.9212 - val_categorical_accuracy: 0.1800 - lr: 4.0000e-05\n",
            "Epoch 11/25\n",
            "11/11 [==============================] - ETA: 0s - loss: 0.7505 - categorical_accuracy: 0.7138\n",
            "Epoch 11: saving model to model_init_2023-02-1310_16_47.459009/model-00011-0.75053-0.71382-2.94480-0.20000.h5\n",
            "11/11 [==============================] - 142s 14s/step - loss: 0.7505 - categorical_accuracy: 0.7138 - val_loss: 2.9448 - val_categorical_accuracy: 0.2000 - lr: 4.0000e-05\n",
            "Epoch 12/25\n",
            "11/11 [==============================] - ETA: 0s - loss: 0.7436 - categorical_accuracy: 0.7073 \n",
            "Epoch 12: saving model to model_init_2023-02-1310_16_47.459009/model-00012-0.74364-0.70732-2.96659-0.20000.h5\n",
            "11/11 [==============================] - 141s 14s/step - loss: 0.7436 - categorical_accuracy: 0.7073 - val_loss: 2.9666 - val_categorical_accuracy: 0.2000 - lr: 4.0000e-05\n",
            "Epoch 13/25\n",
            "11/11 [==============================] - ETA: 0s - loss: 0.7210 - categorical_accuracy: 0.7253 \n",
            "Epoch 13: saving model to model_init_2023-02-1310_16_47.459009/model-00013-0.72097-0.72533-2.98139-0.24000.h5\n",
            "\n",
            "Epoch 13: ReduceLROnPlateau reducing learning rate to 8.000000525498762e-06.\n",
            "11/11 [==============================] - 147s 15s/step - loss: 0.7210 - categorical_accuracy: 0.7253 - val_loss: 2.9814 - val_categorical_accuracy: 0.2400 - lr: 4.0000e-05\n",
            "Epoch 14/25\n",
            "11/11 [==============================] - ETA: 0s - loss: 0.6734 - categorical_accuracy: 0.7434 \n",
            "Epoch 14: saving model to model_init_2023-02-1310_16_47.459009/model-00014-0.67344-0.74342-2.97697-0.26000.h5\n",
            "11/11 [==============================] - 141s 14s/step - loss: 0.6734 - categorical_accuracy: 0.7434 - val_loss: 2.9770 - val_categorical_accuracy: 0.2600 - lr: 8.0000e-06\n",
            "Epoch 15/25\n",
            "11/11 [==============================] - ETA: 0s - loss: 0.6974 - categorical_accuracy: 0.7332 \n",
            "Epoch 15: saving model to model_init_2023-02-1310_16_47.459009/model-00015-0.69739-0.73323-2.96574-0.28000.h5\n",
            "11/11 [==============================] - 152s 15s/step - loss: 0.6974 - categorical_accuracy: 0.7332 - val_loss: 2.9657 - val_categorical_accuracy: 0.2800 - lr: 8.0000e-06\n",
            "Epoch 16/25\n",
            "11/11 [==============================] - ETA: 0s - loss: 0.6550 - categorical_accuracy: 0.7763\n",
            "Epoch 16: saving model to model_init_2023-02-1310_16_47.459009/model-00016-0.65498-0.77632-2.95110-0.28000.h5\n",
            "11/11 [==============================] - 141s 14s/step - loss: 0.6550 - categorical_accuracy: 0.7763 - val_loss: 2.9511 - val_categorical_accuracy: 0.2800 - lr: 8.0000e-06\n",
            "Epoch 17/25\n",
            "11/11 [==============================] - ETA: 0s - loss: 0.7149 - categorical_accuracy: 0.7241 \n",
            "Epoch 17: saving model to model_init_2023-02-1310_16_47.459009/model-00017-0.71488-0.72409-2.93150-0.30000.h5\n",
            "\n",
            "Epoch 17: ReduceLROnPlateau reducing learning rate to 1.6000001778593287e-06.\n",
            "11/11 [==============================] - 150s 15s/step - loss: 0.7149 - categorical_accuracy: 0.7241 - val_loss: 2.9315 - val_categorical_accuracy: 0.3000 - lr: 8.0000e-06\n",
            "Epoch 18/25\n",
            "11/11 [==============================] - ETA: 0s - loss: 0.7691 - categorical_accuracy: 0.6842\n",
            "Epoch 18: saving model to model_init_2023-02-1310_16_47.459009/model-00018-0.76906-0.68421-2.90845-0.30000.h5\n",
            "11/11 [==============================] - 137s 14s/step - loss: 0.7691 - categorical_accuracy: 0.6842 - val_loss: 2.9085 - val_categorical_accuracy: 0.3000 - lr: 1.6000e-06\n",
            "Epoch 19/25\n",
            "11/11 [==============================] - ETA: 0s - loss: 0.7052 - categorical_accuracy: 0.7241 \n",
            "Epoch 19: saving model to model_init_2023-02-1310_16_47.459009/model-00019-0.70517-0.72409-2.88554-0.30000.h5\n",
            "11/11 [==============================] - 139s 14s/step - loss: 0.7052 - categorical_accuracy: 0.7241 - val_loss: 2.8855 - val_categorical_accuracy: 0.3000 - lr: 1.6000e-06\n",
            "Epoch 20/25\n",
            "11/11 [==============================] - ETA: 0s - loss: 0.7038 - categorical_accuracy: 0.7484 \n",
            "Epoch 20: saving model to model_init_2023-02-1310_16_47.459009/model-00020-0.70377-0.74836-2.86217-0.30000.h5\n",
            "11/11 [==============================] - 142s 14s/step - loss: 0.7038 - categorical_accuracy: 0.7484 - val_loss: 2.8622 - val_categorical_accuracy: 0.3000 - lr: 1.6000e-06\n",
            "Epoch 21/25\n",
            "11/11 [==============================] - ETA: 0s - loss: 0.6801 - categorical_accuracy: 0.7500 \n",
            "Epoch 21: saving model to model_init_2023-02-1310_16_47.459009/model-00021-0.68015-0.75000-2.83692-0.32000.h5\n",
            "\n",
            "Epoch 21: ReduceLROnPlateau reducing learning rate to 3.200000264769187e-07.\n",
            "11/11 [==============================] - 138s 14s/step - loss: 0.6801 - categorical_accuracy: 0.7500 - val_loss: 2.8369 - val_categorical_accuracy: 0.3200 - lr: 1.6000e-06\n",
            "Epoch 22/25\n",
            "11/11 [==============================] - ETA: 0s - loss: 0.7400 - categorical_accuracy: 0.7180 \n",
            "Epoch 22: saving model to model_init_2023-02-1310_16_47.459009/model-00022-0.73999-0.71799-2.81125-0.32000.h5\n",
            "11/11 [==============================] - 143s 14s/step - loss: 0.7400 - categorical_accuracy: 0.7180 - val_loss: 2.8113 - val_categorical_accuracy: 0.3200 - lr: 3.2000e-07\n",
            "Epoch 23/25\n",
            "11/11 [==============================] - ETA: 0s - loss: 0.6300 - categorical_accuracy: 0.7648\n",
            "Epoch 23: saving model to model_init_2023-02-1310_16_47.459009/model-00023-0.63001-0.76480-2.78206-0.32000.h5\n",
            "11/11 [==============================] - 134s 13s/step - loss: 0.6300 - categorical_accuracy: 0.7648 - val_loss: 2.7821 - val_categorical_accuracy: 0.3200 - lr: 3.2000e-07\n",
            "Epoch 24/25\n",
            "11/11 [==============================] - ETA: 0s - loss: 0.6875 - categorical_accuracy: 0.7454 \n",
            "Epoch 24: saving model to model_init_2023-02-1310_16_47.459009/model-00024-0.68754-0.74543-2.74900-0.32000.h5\n",
            "11/11 [==============================] - 145s 14s/step - loss: 0.6875 - categorical_accuracy: 0.7454 - val_loss: 2.7490 - val_categorical_accuracy: 0.3200 - lr: 3.2000e-07\n",
            "Epoch 25/25\n",
            "11/11 [==============================] - ETA: 0s - loss: 0.6470 - categorical_accuracy: 0.7549\n",
            "Epoch 25: saving model to model_init_2023-02-1310_16_47.459009/model-00025-0.64705-0.75493-2.71334-0.32000.h5\n",
            "\n",
            "Epoch 25: ReduceLROnPlateau reducing learning rate to 6.400000529538374e-08.\n",
            "11/11 [==============================] - 135s 13s/step - loss: 0.6470 - categorical_accuracy: 0.7549 - val_loss: 2.7133 - val_categorical_accuracy: 0.3200 - lr: 3.2000e-07\n"
          ]
        }
      ],
      "source": [
        "num_epochs = 25\n",
        "history = model.fit_generator(train_generator, steps_per_epoch=steps_per_epoch, epochs=num_epochs, verbose=1, callbacks=callbacks_list, validation_data=val_generator, \n",
        "                              validation_steps=validation_steps, class_weight=None, workers=1, initial_epoch=0)"
      ]
    },
    {
      "cell_type": "code",
      "execution_count": null,
      "metadata": {
        "colab": {
          "base_uri": "https://localhost:8080/",
          "height": 501
        },
        "id": "z4AvJ214wfgT",
        "outputId": "ed121c7e-49f3-4501-adef-b37173cf7c97"
      },
      "outputs": [
        {
          "output_type": "display_data",
          "data": {
            "text/plain": [
              "<Figure size 576x576 with 2 Axes>"
            ],
            "image/png": "[encoded data removed]"
          },
          "metadata": {
            "needs_background": "light"
          }
        }
      ],
      "source": [
        "acc = history.history['categorical_accuracy']\n",
        "val_acc = history.history['val_categorical_accuracy']\n",
        "\n",
        "loss = history.history['loss']\n",
        "val_loss = history.history['val_loss']\n",
        "\n",
        "epochs_range = range(num_epochs)\n",
        "\n",
        "plt.figure(figsize=(8, 8))\n",
        "plt.subplot(1, 2, 1)\n",
        "plt.plot(epochs_range, acc, label='Training Accuracy')\n",
        "plt.plot(epochs_range, val_acc, label='Validation Accuracy')\n",
        "plt.legend(loc='best')\n",
        "plt.title('Training and Validation Accuracy', size=15, color='r')\n",
        "\n",
        "plt.subplot(1, 2, 2)\n",
        "plt.plot(epochs_range, loss, label='Training Loss')\n",
        "plt.plot(epochs_range, val_loss, label='Validation Loss')\n",
        "plt.legend(loc='best')\n",
        "plt.title('Training and Validation Loss', size=15, color='b')\n",
        "plt.show()"
      ]
    },
    {
      "cell_type": "markdown",
      "metadata": {
        "id": "6yYyqW4El5vn"
      },
      "source": [
        "# **Model-04**"
      ]
    },
    {
      "cell_type": "code",
      "execution_count": 23,
      "metadata": {
        "id": "YOgpkxhXl5vn"
      },
      "outputs": [],
      "source": [
        "import imageio"
      ]
    },
    {
      "cell_type": "code",
      "execution_count": 24,
      "metadata": {
        "id": "sxmI4X0kl5vn"
      },
      "outputs": [],
      "source": [
        "def generator(source_path, folder_list, batch_size):\n",
        "    print( 'Source path = ', source_path, '; batch size =', batch_size)\n",
        "    img_idx = [0,1,2,4,6,8,10,12,14,16,18,20,22,24,26,27,28,29] #create a list of image numbers you want to use for a particular video\n",
        "    while True:\n",
        "        t = np.random.permutation(folder_list)\n",
        "        num_batches = len(source_path)//batch_size # calculate the number of batches\n",
        "        for batch in range(num_batches):\n",
        "            batch_data = np.zeros((batch_size,18,84,84,3)) # x is the number of images you use for each video, (y,z) is the final size of the input images and 3 is the number of channels RGB\n",
        "            batch_labels = np.zeros((batch_size,5)) # batch_labels is the one hot representation of the output\n",
        "            for folder in range(batch_size):\n",
        "                imgs = os.listdir(source_path+'/'+ t[folder + (batch*batch_size)].split(';')[0]) # read all the images in the folder\n",
        "                for idx,item in enumerate(img_idx):\n",
        "                    image = imageio.imread(source_path+'/'+ t[folder + (batch*batch_size)].strip().split(';')[0]+'/'+imgs[item]).astype(np.float32)\n",
        "                    \n",
        "                    #crop the images and resize them. Note that the images are of 2 different shape \n",
        "                    #and the conv3D will throw error if the inputs in a batch have different shapes\n",
        "                    if image.shape[1] == 160:\n",
        "                        image = resize(image[:,20:140,:],(84,84)).astype(np.float32) #cropping the (120X160) image to make (120X120)\n",
        "                    else:\n",
        "                        print(\"\")\n",
        "                        image = resize(image,(84,84)).astype(np.float32)\n",
        "                    # Normalizing RGB image with mean subtraction \n",
        "                    batch_data[folder,idx,:,:,0] = image[:,:,0] - 104\n",
        "                    batch_data[folder,idx,:,:,1] = image[:,:,1] - 117\n",
        "                    batch_data[folder,idx,:,:,2] = image[:,:,2] - 123\n",
        "                    \n",
        "                batch_labels[folder, int(t[folder + (batch*batch_size)].strip().split(';')[2])] = 1\n",
        "            yield batch_data, batch_labels #you yield the batch_data and the batch_labels, remember what does yield do\n",
        "\n",
        "\n",
        "        \n",
        "        # write the code for the remaining data points which are left after full batches\n",
        "        if(len(t)%batch_size!=0):\n",
        "            batch_data = np.zeros((len(t)%batch_size,18,84,84,3)) # x is the number of images you use for each video, (y,z) is the final size of the input images and 3 is the number of channels RGB\n",
        "            batch_labels = np.zeros((len(t)%batch_size,5)) # batch_labels is the one hot representation of the output\n",
        "            for folder in range(len(t)%batch_size): # iterate over the batch_size\n",
        "                imgs = os.listdir(source_path+'/'+ t[folder + (num_batches*(len(t)%batch_size))].split(';')[0]) # read all the images in the folder\n",
        "                for idx,item in enumerate(img_idx): #  Iterate iver the frames/images of a folder to read them in\n",
        "                    image = imageio.imread(source_path+'/'+ t[folder + (num_batches*(len(t)%batch_size))].strip().split(';')[0]+'/'+imgs[item]).astype(np.float32)\n",
        "                    \n",
        "                    #crop the images and resize them. Note that the images are of 2 different shape \n",
        "                    #and the conv3D will throw error if the inputs in a batch have different shapes\n",
        "\n",
        "                    if image.shape[1] == 160:\n",
        "                        image = resize(image[:,20:140,:],(84,84)).astype(np.float32)\n",
        "                    else:\n",
        "                        image = resize(image,(84,84)).astype(np.float32)\n",
        "                    # Normalizing RGB image with mean subtraction\n",
        "                    batch_data[folder,idx,:,:,0] = image[:,:,0] - 104\n",
        "                    batch_data[folder,idx,:,:,1] = image[:,:,1] - 117\n",
        "                    batch_data[folder,idx,:,:,2] = image[:,:,2] - 123\n",
        "                                        \n",
        "                batch_labels[folder, int(t[folder + (num_batches*(len(t)%batch_size))].strip().split(';')[2])] = 1\n",
        "            yield batch_data, batch_labels #you yield the batch_data and the batch_labels, remember what does yield do"
      ]
    },
    {
      "cell_type": "code",
      "source": [
        "#write your model here\n",
        "Input_shape = (18, 84, 84, 3)\n",
        "\n",
        "model = Sequential()\n",
        "model.add(Conv3D(64, (3,3,3), padding='same', input_shape=(18,84,84,3)))\n",
        "model.add(BatchNormalization())\n",
        "model.add(Activation('relu'))\n",
        "model.add(MaxPooling3D(pool_size=(2,2,1), strides=(2,2,1)))\n",
        "\n",
        "model.add(Conv3D(64, (3,3,3), padding='same', input_shape=(18,84,84,3)))\n",
        "model.add(BatchNormalization())\n",
        "model.add(Activation('relu'))\n",
        "model.add(MaxPooling3D(pool_size=(2,2,2), strides=(2,2,2)))\n",
        "\n",
        "model.add(Conv3D(64, (3,3,3), padding='same', input_shape=(18,84,84,3)))\n",
        "model.add(BatchNormalization())\n",
        "model.add(Activation('relu'))\n",
        "model.add(MaxPooling3D(pool_size=(2,2,2), strides=(2,2,2)))\n",
        "\n",
        "model.add(Conv3D(128, (3,3,3), padding='same'))\n",
        "model.add(BatchNormalization())\n",
        "model.add(Activation('relu'))\n",
        "model.add(MaxPooling3D(pool_size=(2,2,2), strides=(2,2,2)))\n",
        "\n",
        "model.add(Conv3D(128, (3,3,3), padding='same'))\n",
        "model.add(BatchNormalization())\n",
        "model.add(Activation('relu'))\n",
        "model.add(MaxPooling3D(pool_size=(1,1,1), strides=(2,2,2)))\n",
        "\n",
        "model.add(Conv3D(256, (3,3,3), padding='same'))\n",
        "model.add(Activation('relu'))\n",
        "model.add(MaxPooling3D(pool_size=(1,1,1), strides=(1,1,1)))\n",
        "\n",
        "# Hidden layers\n",
        "\n",
        "model.add(Flatten())\n",
        "model.add(Dropout(0.25))\n",
        "\n",
        "model.add(Dense(128, activation='relu'))\n",
        "model.add(Dropout(0.25))\n",
        "\n",
        "model.add(Dense(128, activation='relu'))\n",
        "model.add(Dropout(0.25))\n",
        "\n",
        "model.add(Dense(128, activation='relu'))\n",
        "model.add(Dropout(0.25))\n",
        "\n",
        "model.add(Dense(128, activation='relu'))\n",
        "model.add(Dropout(0.25))\n",
        "\n",
        "model.add(Dense(5, activation='softmax'))"
      ],
      "metadata": {
        "id": "PdxNSw2XP0Hy"
      },
      "execution_count": 25,
      "outputs": []
    },
    {
      "cell_type": "code",
      "execution_count": 26,
      "metadata": {
        "id": "dhCDx9v7l5vn",
        "colab": {
          "base_uri": "https://localhost:8080/"
        },
        "outputId": "33317e73-491e-47a1-8140-1f02f459ddd0"
      },
      "outputs": [
        {
          "output_type": "stream",
          "name": "stdout",
          "text": [
            "Model: \"sequential_1\"\n",
            "_________________________________________________________________\n",
            " Layer (type)                Output Shape              Param #   \n",
            "=================================================================\n",
            " conv3d (Conv3D)             (None, 18, 84, 84, 64)    5248      \n",
            "                                                                 \n",
            " batch_normalization_5 (Batc  (None, 18, 84, 84, 64)   256       \n",
            " hNormalization)                                                 \n",
            "                                                                 \n",
            " activation (Activation)     (None, 18, 84, 84, 64)    0         \n",
            "                                                                 \n",
            " max_pooling3d (MaxPooling3D  (None, 9, 42, 84, 64)    0         \n",
            " )                                                               \n",
            "                                                                 \n",
            " conv3d_1 (Conv3D)           (None, 9, 42, 84, 64)     110656    \n",
            "                                                                 \n",
            " batch_normalization_6 (Batc  (None, 9, 42, 84, 64)    256       \n",
            " hNormalization)                                                 \n",
            "                                                                 \n",
            " activation_1 (Activation)   (None, 9, 42, 84, 64)     0         \n",
            "                                                                 \n",
            " max_pooling3d_1 (MaxPooling  (None, 4, 21, 42, 64)    0         \n",
            " 3D)                                                             \n",
            "                                                                 \n",
            " conv3d_2 (Conv3D)           (None, 4, 21, 42, 64)     110656    \n",
            "                                                                 \n",
            " batch_normalization_7 (Batc  (None, 4, 21, 42, 64)    256       \n",
            " hNormalization)                                                 \n",
            "                                                                 \n",
            " activation_2 (Activation)   (None, 4, 21, 42, 64)     0         \n",
            "                                                                 \n",
            " max_pooling3d_2 (MaxPooling  (None, 2, 10, 21, 64)    0         \n",
            " 3D)                                                             \n",
            "                                                                 \n",
            " conv3d_3 (Conv3D)           (None, 2, 10, 21, 128)    221312    \n",
            "                                                                 \n",
            " batch_normalization_8 (Batc  (None, 2, 10, 21, 128)   512       \n",
            " hNormalization)                                                 \n",
            "                                                                 \n",
            " activation_3 (Activation)   (None, 2, 10, 21, 128)    0         \n",
            "                                                                 \n",
            " max_pooling3d_3 (MaxPooling  (None, 1, 5, 10, 128)    0         \n",
            " 3D)                                                             \n",
            "                                                                 \n",
            " conv3d_4 (Conv3D)           (None, 1, 5, 10, 128)     442496    \n",
            "                                                                 \n",
            " batch_normalization_9 (Batc  (None, 1, 5, 10, 128)    512       \n",
            " hNormalization)                                                 \n",
            "                                                                 \n",
            " activation_4 (Activation)   (None, 1, 5, 10, 128)     0         \n",
            "                                                                 \n",
            " max_pooling3d_4 (MaxPooling  (None, 1, 3, 5, 128)     0         \n",
            " 3D)                                                             \n",
            "                                                                 \n",
            " conv3d_5 (Conv3D)           (None, 1, 3, 5, 256)      884992    \n",
            "                                                                 \n",
            " activation_5 (Activation)   (None, 1, 3, 5, 256)      0         \n",
            "                                                                 \n",
            " max_pooling3d_5 (MaxPooling  (None, 1, 3, 5, 256)     0         \n",
            " 3D)                                                             \n",
            "                                                                 \n",
            " flatten_1 (Flatten)         (None, 3840)              0         \n",
            "                                                                 \n",
            " dropout_2 (Dropout)         (None, 3840)              0         \n",
            "                                                                 \n",
            " dense_2 (Dense)             (None, 128)               491648    \n",
            "                                                                 \n",
            " dropout_3 (Dropout)         (None, 128)               0         \n",
            "                                                                 \n",
            " dense_3 (Dense)             (None, 128)               16512     \n",
            "                                                                 \n",
            " dropout_4 (Dropout)         (None, 128)               0         \n",
            "                                                                 \n",
            " dense_4 (Dense)             (None, 128)               16512     \n",
            "                                                                 \n",
            " dropout_5 (Dropout)         (None, 128)               0         \n",
            "                                                                 \n",
            " dense_5 (Dense)             (None, 128)               16512     \n",
            "                                                                 \n",
            " dropout_6 (Dropout)         (None, 128)               0         \n",
            "                                                                 \n",
            " dense_6 (Dense)             (None, 5)                 645       \n",
            "                                                                 \n",
            "=================================================================\n",
            "Total params: 2,318,981\n",
            "Trainable params: 2,318,085\n",
            "Non-trainable params: 896\n",
            "_________________________________________________________________\n",
            "None\n"
          ]
        }
      ],
      "source": [
        "optimiser = optimizers.SGD(lr=0.001, decay=1e-6, momentum=0.9, nesterov=True)\n",
        "model.compile(optimizer = optimiser, loss='categorical_crossentropy', metrics=['categorical_accuracy'],run_eagerly=True)\n",
        "print (model.summary())"
      ]
    },
    {
      "cell_type": "code",
      "execution_count": 27,
      "metadata": {
        "id": "ZWeyv17Wl5vo"
      },
      "outputs": [],
      "source": [
        "batch_size = 32\n",
        "\n",
        "train_generator = generator(train_path, train_doc, batch_size)\n",
        "val_generator = generator(val_path, val_doc, batch_size)"
      ]
    },
    {
      "cell_type": "code",
      "execution_count": 28,
      "metadata": {
        "id": "TZOBonQFl5vo",
        "colab": {
          "base_uri": "https://localhost:8080/"
        },
        "outputId": "c760d476-7d21-47b6-d264-a74b793c1783"
      },
      "outputs": [
        {
          "output_type": "stream",
          "name": "stderr",
          "text": [
            "WARNING:tensorflow:`period` argument is deprecated. Please use `save_freq` to specify the frequency in number of batches seen.\n"
          ]
        }
      ],
      "source": [
        "model_name = 'model_init' + '_' + str(curr_dt_time).replace(' ','').replace(':','_') + '/'\n",
        "    \n",
        "if not os.path.exists(model_name):\n",
        "    os.mkdir(model_name)\n",
        "        \n",
        "filepath = model_name + 'model-{epoch:05d}-{loss:.5f}-{categorical_accuracy:.5f}-{val_loss:.5f}-{val_categorical_accuracy:.5f}.h5'\n",
        "\n",
        "checkpoint = ModelCheckpoint(filepath, monitor='val_loss', verbose=1, save_best_only=False, save_weights_only=False, mode='auto', period=1)\n",
        "\n",
        "LR = ReduceLROnPlateau(monitor='val_loss', factor=0.5, patience=2, verbose=1, mode='min', min_delta=0.0001, cooldown=0, min_lr=0.00001)\n",
        "callbacks_list = [checkpoint, LR]\n",
        "#callbacks_list = [checkpoint]"
      ]
    },
    {
      "cell_type": "code",
      "execution_count": 29,
      "metadata": {
        "id": "KmGEQbxol5vo"
      },
      "outputs": [],
      "source": [
        "if (num_train_sequences%batch_size) == 0:\n",
        "    steps_per_epoch = int(num_train_sequences/batch_size)\n",
        "else:\n",
        "    steps_per_epoch = (num_train_sequences//batch_size) + 1\n",
        "\n",
        "if (num_val_sequences%batch_size) == 0:\n",
        "    validation_steps = int(num_val_sequences/batch_size)\n",
        "else:\n",
        "    validation_steps = (num_val_sequences//batch_size) + 1"
      ]
    },
    {
      "cell_type": "code",
      "execution_count": 30,
      "metadata": {
        "id": "VvwvtaZrl5vo",
        "colab": {
          "base_uri": "https://localhost:8080/"
        },
        "outputId": "688b8e62-bedb-4b22-e651-148d313448bd"
      },
      "outputs": [
        {
          "output_type": "stream",
          "name": "stdout",
          "text": [
            "Source path =  /content/Project_data/train ; batch size = 32\n",
            "Epoch 1/30\n",
            "21/21 [==============================] - ETA: 0s - loss: 1.6155 - categorical_accuracy: 0.2236Source path =  /content/Project_data/val ; batch size = 32\n",
            "\n",
            "Epoch 1: saving model to model_init_2023-02-1310_16_47.459009/model-00001-1.61549-0.22360-1.59889-0.37500.h5\n",
            "21/21 [==============================] - 92s 4s/step - loss: 1.6155 - categorical_accuracy: 0.2236 - val_loss: 1.5989 - val_categorical_accuracy: 0.3750 - lr: 0.0010\n",
            "Epoch 2/30\n",
            "21/21 [==============================] - ETA: 0s - loss: 1.5801 - categorical_accuracy: 0.2774\n",
            "Epoch 2: saving model to model_init_2023-02-1310_16_47.459009/model-00002-1.58006-0.27743-1.60580-0.18750.h5\n",
            "21/21 [==============================] - 96s 5s/step - loss: 1.5801 - categorical_accuracy: 0.2774 - val_loss: 1.6058 - val_categorical_accuracy: 0.1875 - lr: 0.0010\n",
            "Epoch 3/30\n",
            "21/21 [==============================] - ETA: 0s - loss: 1.5576 - categorical_accuracy: 0.3188\n",
            "Epoch 3: saving model to model_init_2023-02-1310_16_47.459009/model-00003-1.55756-0.31884-1.55050-0.18750.h5\n",
            "21/21 [==============================] - 100s 5s/step - loss: 1.5576 - categorical_accuracy: 0.3188 - val_loss: 1.5505 - val_categorical_accuracy: 0.1875 - lr: 0.0010\n",
            "Epoch 4/30\n",
            "21/21 [==============================] - ETA: 0s - loss: 1.5176 - categorical_accuracy: 0.3147\n",
            "Epoch 4: saving model to model_init_2023-02-1310_16_47.459009/model-00004-1.51755-0.31470-1.42062-0.31250.h5\n",
            "21/21 [==============================] - 95s 5s/step - loss: 1.5176 - categorical_accuracy: 0.3147 - val_loss: 1.4206 - val_categorical_accuracy: 0.3125 - lr: 0.0010\n",
            "Epoch 5/30\n",
            "21/21 [==============================] - ETA: 0s - loss: 1.4586 - categorical_accuracy: 0.3602\n",
            "Epoch 5: saving model to model_init_2023-02-1310_16_47.459009/model-00005-1.45859-0.36025-2.07977-0.00000.h5\n",
            "21/21 [==============================] - 102s 5s/step - loss: 1.4586 - categorical_accuracy: 0.3602 - val_loss: 2.0798 - val_categorical_accuracy: 0.0000e+00 - lr: 0.0010\n",
            "Epoch 6/30\n",
            "21/21 [==============================] - ETA: 0s - loss: 1.4147 - categorical_accuracy: 0.3458\n",
            "Epoch 6: saving model to model_init_2023-02-1310_16_47.459009/model-00006-1.41468-0.34576-1.70475-0.18750.h5\n",
            "\n",
            "Epoch 6: ReduceLROnPlateau reducing learning rate to 0.0005000000237487257.\n",
            "21/21 [==============================] - 93s 5s/step - loss: 1.4147 - categorical_accuracy: 0.3458 - val_loss: 1.7047 - val_categorical_accuracy: 0.1875 - lr: 0.0010\n",
            "Epoch 7/30\n",
            "21/21 [==============================] - ETA: 0s - loss: 1.3680 - categorical_accuracy: 0.4389\n",
            "Epoch 7: saving model to model_init_2023-02-1310_16_47.459009/model-00007-1.36799-0.43892-1.35827-0.31250.h5\n",
            "21/21 [==============================] - 99s 5s/step - loss: 1.3680 - categorical_accuracy: 0.4389 - val_loss: 1.3583 - val_categorical_accuracy: 0.3125 - lr: 5.0000e-04\n",
            "Epoch 8/30\n",
            "21/21 [==============================] - ETA: 0s - loss: 1.3363 - categorical_accuracy: 0.4576\n",
            "Epoch 8: saving model to model_init_2023-02-1310_16_47.459009/model-00008-1.33634-0.45756-1.25630-0.43750.h5\n",
            "21/21 [==============================] - 93s 5s/step - loss: 1.3363 - categorical_accuracy: 0.4576 - val_loss: 1.2563 - val_categorical_accuracy: 0.4375 - lr: 5.0000e-04\n",
            "Epoch 9/30\n",
            "21/21 [==============================] - ETA: 0s - loss: 1.3383 - categorical_accuracy: 0.4369\n",
            "Epoch 9: saving model to model_init_2023-02-1310_16_47.459009/model-00009-1.33827-0.43685-1.27096-0.56250.h5\n",
            "21/21 [==============================] - 102s 5s/step - loss: 1.3383 - categorical_accuracy: 0.4369 - val_loss: 1.2710 - val_categorical_accuracy: 0.5625 - lr: 5.0000e-04\n",
            "Epoch 10/30\n",
            "21/21 [==============================] - ETA: 0s - loss: 1.2924 - categorical_accuracy: 0.4576\n",
            "Epoch 10: saving model to model_init_2023-02-1310_16_47.459009/model-00010-1.29237-0.45756-1.15015-0.56250.h5\n",
            "21/21 [==============================] - 91s 5s/step - loss: 1.2924 - categorical_accuracy: 0.4576 - val_loss: 1.1502 - val_categorical_accuracy: 0.5625 - lr: 5.0000e-04\n",
            "Epoch 11/30\n",
            "21/21 [==============================] - ETA: 0s - loss: 1.2756 - categorical_accuracy: 0.4472\n",
            "Epoch 11: saving model to model_init_2023-02-1310_16_47.459009/model-00011-1.27562-0.44720-1.09023-0.75000.h5\n",
            "21/21 [==============================] - 95s 5s/step - loss: 1.2756 - categorical_accuracy: 0.4472 - val_loss: 1.0902 - val_categorical_accuracy: 0.7500 - lr: 5.0000e-04\n",
            "Epoch 12/30\n",
            "21/21 [==============================] - ETA: 0s - loss: 1.2247 - categorical_accuracy: 0.4865\n",
            "Epoch 12: saving model to model_init_2023-02-1310_16_47.459009/model-00012-1.22472-0.48654-1.20275-0.62500.h5\n",
            "21/21 [==============================] - 90s 4s/step - loss: 1.2247 - categorical_accuracy: 0.4865 - val_loss: 1.2028 - val_categorical_accuracy: 0.6250 - lr: 5.0000e-04\n",
            "Epoch 13/30\n",
            "21/21 [==============================] - ETA: 0s - loss: 1.1436 - categorical_accuracy: 0.5010\n",
            "Epoch 13: saving model to model_init_2023-02-1310_16_47.459009/model-00013-1.14360-0.50104-0.96791-0.62500.h5\n",
            "21/21 [==============================] - 94s 5s/step - loss: 1.1436 - categorical_accuracy: 0.5010 - val_loss: 0.9679 - val_categorical_accuracy: 0.6250 - lr: 5.0000e-04\n",
            "Epoch 14/30\n",
            "21/21 [==============================] - ETA: 0s - loss: 1.1342 - categorical_accuracy: 0.5238\n",
            "Epoch 14: saving model to model_init_2023-02-1310_16_47.459009/model-00014-1.13421-0.52381-0.93792-0.68750.h5\n",
            "21/21 [==============================] - 95s 5s/step - loss: 1.1342 - categorical_accuracy: 0.5238 - val_loss: 0.9379 - val_categorical_accuracy: 0.6875 - lr: 5.0000e-04\n",
            "Epoch 15/30\n",
            "21/21 [==============================] - ETA: 0s - loss: 1.0774 - categorical_accuracy: 0.5362\n",
            "Epoch 15: saving model to model_init_2023-02-1310_16_47.459009/model-00015-1.07744-0.53623-0.91370-0.68750.h5\n",
            "21/21 [==============================] - 93s 5s/step - loss: 1.0774 - categorical_accuracy: 0.5362 - val_loss: 0.9137 - val_categorical_accuracy: 0.6875 - lr: 5.0000e-04\n",
            "Epoch 16/30\n",
            "21/21 [==============================] - ETA: 0s - loss: 1.1057 - categorical_accuracy: 0.5300\n",
            "Epoch 16: saving model to model_init_2023-02-1310_16_47.459009/model-00016-1.10570-0.53002-0.98711-0.56250.h5\n",
            "21/21 [==============================] - 96s 5s/step - loss: 1.1057 - categorical_accuracy: 0.5300 - val_loss: 0.9871 - val_categorical_accuracy: 0.5625 - lr: 5.0000e-04\n",
            "Epoch 17/30\n",
            "21/21 [==============================] - ETA: 0s - loss: 1.0816 - categorical_accuracy: 0.5528\n",
            "Epoch 17: saving model to model_init_2023-02-1310_16_47.459009/model-00017-1.08155-0.55280-1.05930-0.56250.h5\n",
            "\n",
            "Epoch 17: ReduceLROnPlateau reducing learning rate to 0.0002500000118743628.\n",
            "21/21 [==============================] - 90s 4s/step - loss: 1.0816 - categorical_accuracy: 0.5528 - val_loss: 1.0593 - val_categorical_accuracy: 0.5625 - lr: 5.0000e-04\n",
            "Epoch 18/30\n",
            "21/21 [==============================] - ETA: 0s - loss: 0.9684 - categorical_accuracy: 0.6025\n",
            "Epoch 18: saving model to model_init_2023-02-1310_16_47.459009/model-00018-0.96836-0.60248-1.22078-0.43750.h5\n",
            "21/21 [==============================] - 100s 5s/step - loss: 0.9684 - categorical_accuracy: 0.6025 - val_loss: 1.2208 - val_categorical_accuracy: 0.4375 - lr: 2.5000e-04\n",
            "Epoch 19/30\n",
            "21/21 [==============================] - ETA: 0s - loss: 1.0125 - categorical_accuracy: 0.5694\n",
            "Epoch 19: saving model to model_init_2023-02-1310_16_47.459009/model-00019-1.01252-0.56936-0.84422-0.62500.h5\n",
            "21/21 [==============================] - 98s 5s/step - loss: 1.0125 - categorical_accuracy: 0.5694 - val_loss: 0.8442 - val_categorical_accuracy: 0.6250 - lr: 2.5000e-04\n",
            "Epoch 20/30\n",
            "21/21 [==============================] - ETA: 0s - loss: 0.9592 - categorical_accuracy: 0.6108\n",
            "Epoch 20: saving model to model_init_2023-02-1310_16_47.459009/model-00020-0.95924-0.61077-0.64223-0.81250.h5\n",
            "21/21 [==============================] - 95s 5s/step - loss: 0.9592 - categorical_accuracy: 0.6108 - val_loss: 0.6422 - val_categorical_accuracy: 0.8125 - lr: 2.5000e-04\n",
            "Epoch 21/30\n",
            "21/21 [==============================] - ETA: 0s - loss: 0.9074 - categorical_accuracy: 0.6066\n",
            "Epoch 21: saving model to model_init_2023-02-1310_16_47.459009/model-00021-0.90743-0.60663-1.15202-0.50000.h5\n",
            "21/21 [==============================] - 88s 4s/step - loss: 0.9074 - categorical_accuracy: 0.6066 - val_loss: 1.1520 - val_categorical_accuracy: 0.5000 - lr: 2.5000e-04\n",
            "Epoch 22/30\n",
            "21/21 [==============================] - ETA: 0s - loss: 0.9067 - categorical_accuracy: 0.6356\n",
            "Epoch 22: saving model to model_init_2023-02-1310_16_47.459009/model-00022-0.90671-0.63561-0.59810-0.87500.h5\n",
            "21/21 [==============================] - 93s 5s/step - loss: 0.9067 - categorical_accuracy: 0.6356 - val_loss: 0.5981 - val_categorical_accuracy: 0.8750 - lr: 2.5000e-04\n",
            "Epoch 23/30\n",
            "21/21 [==============================] - ETA: 0s - loss: 0.9319 - categorical_accuracy: 0.6046\n",
            "Epoch 23: saving model to model_init_2023-02-1310_16_47.459009/model-00023-0.93191-0.60455-0.63791-0.87500.h5\n",
            "21/21 [==============================] - 89s 4s/step - loss: 0.9319 - categorical_accuracy: 0.6046 - val_loss: 0.6379 - val_categorical_accuracy: 0.8750 - lr: 2.5000e-04\n",
            "Epoch 24/30\n",
            "21/21 [==============================] - ETA: 0s - loss: 0.8628 - categorical_accuracy: 0.6522\n",
            "Epoch 24: saving model to model_init_2023-02-1310_16_47.459009/model-00024-0.86277-0.65217-0.83318-0.62500.h5\n",
            "\n",
            "Epoch 24: ReduceLROnPlateau reducing learning rate to 0.0001250000059371814.\n",
            "21/21 [==============================] - 96s 5s/step - loss: 0.8628 - categorical_accuracy: 0.6522 - val_loss: 0.8332 - val_categorical_accuracy: 0.6250 - lr: 2.5000e-04\n",
            "Epoch 25/30\n",
            "21/21 [==============================] - ETA: 0s - loss: 0.8651 - categorical_accuracy: 0.6770\n",
            "Epoch 25: saving model to model_init_2023-02-1310_16_47.459009/model-00025-0.86510-0.67702-1.23078-0.56250.h5\n",
            "21/21 [==============================] - 94s 5s/step - loss: 0.8651 - categorical_accuracy: 0.6770 - val_loss: 1.2308 - val_categorical_accuracy: 0.5625 - lr: 1.2500e-04\n",
            "Epoch 26/30\n",
            "21/21 [==============================] - ETA: 0s - loss: 0.8275 - categorical_accuracy: 0.7143\n",
            "Epoch 26: saving model to model_init_2023-02-1310_16_47.459009/model-00026-0.82752-0.71429-0.91263-0.56250.h5\n",
            "\n",
            "Epoch 26: ReduceLROnPlateau reducing learning rate to 6.25000029685907e-05.\n",
            "21/21 [==============================] - 98s 5s/step - loss: 0.8275 - categorical_accuracy: 0.7143 - val_loss: 0.9126 - val_categorical_accuracy: 0.5625 - lr: 1.2500e-04\n",
            "Epoch 27/30\n",
            "21/21 [==============================] - ETA: 0s - loss: 0.8194 - categorical_accuracy: 0.6770\n",
            "Epoch 27: saving model to model_init_2023-02-1310_16_47.459009/model-00027-0.81940-0.67702-0.78842-0.62500.h5\n",
            "21/21 [==============================] - 95s 5s/step - loss: 0.8194 - categorical_accuracy: 0.6770 - val_loss: 0.7884 - val_categorical_accuracy: 0.6250 - lr: 6.2500e-05\n",
            "Epoch 28/30\n",
            "21/21 [==============================] - ETA: 0s - loss: 0.8523 - categorical_accuracy: 0.6439\n",
            "Epoch 28: saving model to model_init_2023-02-1310_16_47.459009/model-00028-0.85226-0.64389-0.90191-0.68750.h5\n",
            "\n",
            "Epoch 28: ReduceLROnPlateau reducing learning rate to 3.125000148429535e-05.\n",
            "21/21 [==============================] - 113s 6s/step - loss: 0.8523 - categorical_accuracy: 0.6439 - val_loss: 0.9019 - val_categorical_accuracy: 0.6875 - lr: 6.2500e-05\n",
            "Epoch 29/30\n",
            "21/21 [==============================] - ETA: 0s - loss: 0.8113 - categorical_accuracy: 0.6812\n",
            "Epoch 29: saving model to model_init_2023-02-1310_16_47.459009/model-00029-0.81127-0.68116-0.86788-0.62500.h5\n",
            "21/21 [==============================] - 115s 6s/step - loss: 0.8113 - categorical_accuracy: 0.6812 - val_loss: 0.8679 - val_categorical_accuracy: 0.6250 - lr: 3.1250e-05\n",
            "Epoch 30/30\n",
            "21/21 [==============================] - ETA: 0s - loss: 0.7960 - categorical_accuracy: 0.7143\n",
            "Epoch 30: saving model to model_init_2023-02-1310_16_47.459009/model-00030-0.79598-0.71429-0.49134-0.87500.h5\n",
            "21/21 [==============================] - 99s 5s/step - loss: 0.7960 - categorical_accuracy: 0.7143 - val_loss: 0.4913 - val_categorical_accuracy: 0.8750 - lr: 3.1250e-05\n"
          ]
        }
      ],
      "source": [
        "history = model.fit(train_generator, steps_per_epoch=steps_per_epoch, epochs=30, verbose=1, \n",
        "                    callbacks=callbacks_list, validation_data=val_generator, \n",
        "                    validation_steps=validation_steps, class_weight=None, workers=1, initial_epoch=0)"
      ]
    },
    {
      "cell_type": "markdown",
      "source": [
        "model_init_2023-02-1310_16_47.459009/model-00030-0.79598-0.71429-0.49134-0.87500.h5"
      ],
      "metadata": {
        "id": "FQnep7cdtbC_"
      }
    },
    {
      "cell_type": "code",
      "source": [
        "# used to save the file which contains weights and bias \n",
        "\n",
        "model.save('model_init_2023-02-1310_16_47.459009/model-00030-0.79598-0.71429-0.49134-0.87500.h5')"
      ],
      "metadata": {
        "id": "QVlYXKQntvnF"
      },
      "execution_count": 33,
      "outputs": []
    },
    {
      "cell_type": "code",
      "source": [
        "# this function is used to save .h5 file which contains optimisied weights and biases in the local machine \n",
        "\n",
        "from google.colab import files\n",
        "files.download(\"model_init_2023-02-1310_16_47.459009/model-00030-0.79598-0.71429-0.49134-0.87500.h5\")"
      ],
      "metadata": {
        "colab": {
          "base_uri": "https://localhost:8080/",
          "height": 17
        },
        "id": "K5Coh_f0uEoK",
        "outputId": "04be53c1-c707-4ad6-e350-e3f81c0d5bf6"
      },
      "execution_count": 34,
      "outputs": [
        {
          "output_type": "display_data",
          "data": {
            "text/plain": [
              "<IPython.core.display.Javascript object>"
            ],
            "application/javascript": [
              "\n",
              "    async function download(id, filename, size) {\n",
              "      if (!google.colab.kernel.accessAllowed) {\n",
              "        return;\n",
              "      }\n",
              "      const div = document.createElement('div');\n",
              "      const label = document.createElement('label');\n",
              "      label.textContent = `Downloading \"${filename}\": `;\n",
              "      div.appendChild(label);\n",
              "      const progress = document.createElement('progress');\n",
              "      progress.max = size;\n",
              "      div.appendChild(progress);\n",
              "      document.body.appendChild(div);\n",
              "\n",
              "      const buffers = [];\n",
              "      let downloaded = 0;\n",
              "\n",
              "      const channel = await google.colab.kernel.comms.open(id);\n",
              "      // Send a message to notify the kernel that we're ready.\n",
              "      channel.send({})\n",
              "\n",
              "      for await (const message of channel.messages) {\n",
              "        // Send a message to notify the kernel that we're ready.\n",
              "        channel.send({})\n",
              "        if (message.buffers) {\n",
              "          for (const buffer of message.buffers) {\n",
              "            buffers.push(buffer);\n",
              "            downloaded += buffer.byteLength;\n",
              "            progress.value = downloaded;\n",
              "          }\n",
              "        }\n",
              "      }\n",
              "      const blob = new Blob(buffers, {type: 'application/binary'});\n",
              "      const a = document.createElement('a');\n",
              "      a.href = window.URL.createObjectURL(blob);\n",
              "      a.download = filename;\n",
              "      div.appendChild(a);\n",
              "      a.click();\n",
              "      div.remove();\n",
              "    }\n",
              "  "
            ]
          },
          "metadata": {}
        },
        {
          "output_type": "display_data",
          "data": {
            "text/plain": [
              "<IPython.core.display.Javascript object>"
            ],
            "application/javascript": [
              "download(\"download_19b431a1-ef53-4fd8-9557-0b1825442e5c\", \"model-00030-0.79598-0.71429-0.49134-0.87500.h5\", 18705256)"
            ]
          },
          "metadata": {}
        }
      ]
    },
    {
      "cell_type": "code",
      "execution_count": 32,
      "metadata": {
        "id": "sGvGGPTAl5vo",
        "colab": {
          "base_uri": "https://localhost:8080/",
          "height": 265
        },
        "outputId": "d096cdc5-4c8d-4990-cf36-3e3724794a31"
      },
      "outputs": [
        {
          "output_type": "display_data",
          "data": {
            "text/plain": [
              "<Figure size 1152x288 with 2 Axes>"
            ],
            "image/png": "[encoded data removed]"
          },
          "metadata": {
            "needs_background": "light"
          }
        }
      ],
      "source": [
        "fig, axes = plt.subplots(nrows=1, ncols=2, figsize=(16,4))\n",
        "axes[0].plot(history.history['categorical_accuracy'])   \n",
        "axes[0].plot(history.history['val_categorical_accuracy'])\n",
        "axes[0].legend(['categorical_accuracy','val_categorical_accuracy'])\n",
        "\n",
        "axes[1].plot(history.history['loss'])   \n",
        "axes[1].plot(history.history['val_loss'])\n",
        "axes[1].legend(['loss','val_loss'])\n",
        "plt.show()"
      ]
    },
    {
      "cell_type": "markdown",
      "source": [
        "# SUMMARY \n",
        "\n",
        "- THE LAST MODEL MODEL-04 DID GREAT IN TERMS OF VALIDATION ACCURACY IT HAS GIVEN EXTREMELY WONDERFUL RESULTS WHICH ARE WRITTEN AS :- \n",
        "\n",
        "\n",
        "**Training Accuracy :- 71%**\n",
        "\n",
        "**Validation Accuracy :- 87%**"
      ],
      "metadata": {
        "id": "lg86ZCglZurg"
      }
    }
  ],
  "metadata": {
    "accelerator": "GPU",
    "colab": {
      "provenance": []
    },
    "gpuClass": "standard",
    "kernelspec": {
      "display_name": "Python 3 (ipykernel)",
      "language": "python",
      "name": "python3"
    },
    "language_info": {
      "codemirror_mode": {
        "name": "ipython",
        "version": 3
      },
      "file_extension": ".py",
      "mimetype": "text/x-python",
      "name": "python",
      "nbconvert_exporter": "python",
      "pygments_lexer": "ipython3",
      "version": "3.9.7"
    }
  },
  "nbformat": 4,
  "nbformat_minor": 0
}